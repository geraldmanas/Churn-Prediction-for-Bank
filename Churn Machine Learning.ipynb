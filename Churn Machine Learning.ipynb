{
 "cells": [
  {
   "cell_type": "code",
   "execution_count": 1,
   "id": "1fd48b0d",
   "metadata": {},
   "outputs": [],
   "source": [
    "import pandas as pd\n",
    "import numpy as np\n",
    "\n",
    "import matplotlib\n",
    "import matplotlib.pyplot as plt\n",
    "import seaborn as sns\n",
    "\n",
    "import scipy.stats as stats\n",
    "from scipy.stats import kstest, shapiro\n",
    "\n",
    "import sys\n",
    "import warnings\n",
    "warnings.filterwarnings(\"ignore\")\n",
    "pd.pandas.set_option('display.max_columns', None)"
   ]
  },
  {
   "cell_type": "code",
   "execution_count": 2,
   "id": "a0dbb559",
   "metadata": {},
   "outputs": [],
   "source": [
    "df = pd.read_csv('churn.csv')"
   ]
  },
  {
   "cell_type": "code",
   "execution_count": 3,
   "id": "9e87738f",
   "metadata": {},
   "outputs": [
    {
     "data": {
      "text/html": [
       "<div>\n",
       "<style scoped>\n",
       "    .dataframe tbody tr th:only-of-type {\n",
       "        vertical-align: middle;\n",
       "    }\n",
       "\n",
       "    .dataframe tbody tr th {\n",
       "        vertical-align: top;\n",
       "    }\n",
       "\n",
       "    .dataframe thead th {\n",
       "        text-align: right;\n",
       "    }\n",
       "</style>\n",
       "<table border=\"1\" class=\"dataframe\">\n",
       "  <thead>\n",
       "    <tr style=\"text-align: right;\">\n",
       "      <th></th>\n",
       "      <th>RowNumber</th>\n",
       "      <th>CustomerId</th>\n",
       "      <th>Surname</th>\n",
       "      <th>CreditScore</th>\n",
       "      <th>Geography</th>\n",
       "      <th>Gender</th>\n",
       "      <th>Age</th>\n",
       "      <th>Tenure</th>\n",
       "      <th>Balance</th>\n",
       "      <th>NumOfProducts</th>\n",
       "      <th>HasCrCard</th>\n",
       "      <th>IsActiveMember</th>\n",
       "      <th>EstimatedSalary</th>\n",
       "      <th>Exited</th>\n",
       "    </tr>\n",
       "  </thead>\n",
       "  <tbody>\n",
       "    <tr>\n",
       "      <th>0</th>\n",
       "      <td>1</td>\n",
       "      <td>15634602</td>\n",
       "      <td>Hargrave</td>\n",
       "      <td>619</td>\n",
       "      <td>France</td>\n",
       "      <td>Female</td>\n",
       "      <td>42</td>\n",
       "      <td>2</td>\n",
       "      <td>0.00</td>\n",
       "      <td>1</td>\n",
       "      <td>1</td>\n",
       "      <td>1</td>\n",
       "      <td>101348.88</td>\n",
       "      <td>1</td>\n",
       "    </tr>\n",
       "    <tr>\n",
       "      <th>1</th>\n",
       "      <td>2</td>\n",
       "      <td>15647311</td>\n",
       "      <td>Hill</td>\n",
       "      <td>608</td>\n",
       "      <td>Spain</td>\n",
       "      <td>Female</td>\n",
       "      <td>41</td>\n",
       "      <td>1</td>\n",
       "      <td>83807.86</td>\n",
       "      <td>1</td>\n",
       "      <td>0</td>\n",
       "      <td>1</td>\n",
       "      <td>112542.58</td>\n",
       "      <td>0</td>\n",
       "    </tr>\n",
       "    <tr>\n",
       "      <th>2</th>\n",
       "      <td>3</td>\n",
       "      <td>15619304</td>\n",
       "      <td>Onio</td>\n",
       "      <td>502</td>\n",
       "      <td>France</td>\n",
       "      <td>Female</td>\n",
       "      <td>42</td>\n",
       "      <td>8</td>\n",
       "      <td>159660.80</td>\n",
       "      <td>3</td>\n",
       "      <td>1</td>\n",
       "      <td>0</td>\n",
       "      <td>113931.57</td>\n",
       "      <td>1</td>\n",
       "    </tr>\n",
       "    <tr>\n",
       "      <th>3</th>\n",
       "      <td>4</td>\n",
       "      <td>15701354</td>\n",
       "      <td>Boni</td>\n",
       "      <td>699</td>\n",
       "      <td>France</td>\n",
       "      <td>Female</td>\n",
       "      <td>39</td>\n",
       "      <td>1</td>\n",
       "      <td>0.00</td>\n",
       "      <td>2</td>\n",
       "      <td>0</td>\n",
       "      <td>0</td>\n",
       "      <td>93826.63</td>\n",
       "      <td>0</td>\n",
       "    </tr>\n",
       "    <tr>\n",
       "      <th>4</th>\n",
       "      <td>5</td>\n",
       "      <td>15737888</td>\n",
       "      <td>Mitchell</td>\n",
       "      <td>850</td>\n",
       "      <td>Spain</td>\n",
       "      <td>Female</td>\n",
       "      <td>43</td>\n",
       "      <td>2</td>\n",
       "      <td>125510.82</td>\n",
       "      <td>1</td>\n",
       "      <td>1</td>\n",
       "      <td>1</td>\n",
       "      <td>79084.10</td>\n",
       "      <td>0</td>\n",
       "    </tr>\n",
       "  </tbody>\n",
       "</table>\n",
       "</div>"
      ],
      "text/plain": [
       "   RowNumber  CustomerId   Surname  CreditScore Geography  Gender  Age  \\\n",
       "0          1    15634602  Hargrave          619    France  Female   42   \n",
       "1          2    15647311      Hill          608     Spain  Female   41   \n",
       "2          3    15619304      Onio          502    France  Female   42   \n",
       "3          4    15701354      Boni          699    France  Female   39   \n",
       "4          5    15737888  Mitchell          850     Spain  Female   43   \n",
       "\n",
       "   Tenure    Balance  NumOfProducts  HasCrCard  IsActiveMember  \\\n",
       "0       2       0.00              1          1               1   \n",
       "1       1   83807.86              1          0               1   \n",
       "2       8  159660.80              3          1               0   \n",
       "3       1       0.00              2          0               0   \n",
       "4       2  125510.82              1          1               1   \n",
       "\n",
       "   EstimatedSalary  Exited  \n",
       "0        101348.88       1  \n",
       "1        112542.58       0  \n",
       "2        113931.57       1  \n",
       "3         93826.63       0  \n",
       "4         79084.10       0  "
      ]
     },
     "execution_count": 3,
     "metadata": {},
     "output_type": "execute_result"
    }
   ],
   "source": [
    "df.head(5)"
   ]
  },
  {
   "cell_type": "code",
   "execution_count": 4,
   "id": "1705000e",
   "metadata": {},
   "outputs": [
    {
     "data": {
      "text/plain": [
       "(10000, 14)"
      ]
     },
     "execution_count": 4,
     "metadata": {},
     "output_type": "execute_result"
    }
   ],
   "source": [
    "df.shape"
   ]
  },
  {
   "cell_type": "markdown",
   "id": "67fac9f0",
   "metadata": {},
   "source": [
    "# 1. Data Pre Processing"
   ]
  },
  {
   "cell_type": "code",
   "execution_count": 5,
   "id": "66ff2b3b",
   "metadata": {},
   "outputs": [],
   "source": [
    "# Missing Values handling"
   ]
  },
  {
   "cell_type": "code",
   "execution_count": 6,
   "id": "b3c15e33",
   "metadata": {},
   "outputs": [
    {
     "name": "stdout",
     "output_type": "stream",
     "text": [
      "<class 'pandas.core.frame.DataFrame'>\n",
      "RangeIndex: 10000 entries, 0 to 9999\n",
      "Data columns (total 14 columns):\n",
      " #   Column           Non-Null Count  Dtype  \n",
      "---  ------           --------------  -----  \n",
      " 0   RowNumber        10000 non-null  int64  \n",
      " 1   CustomerId       10000 non-null  int64  \n",
      " 2   Surname          10000 non-null  object \n",
      " 3   CreditScore      10000 non-null  int64  \n",
      " 4   Geography        10000 non-null  object \n",
      " 5   Gender           10000 non-null  object \n",
      " 6   Age              10000 non-null  int64  \n",
      " 7   Tenure           10000 non-null  int64  \n",
      " 8   Balance          10000 non-null  float64\n",
      " 9   NumOfProducts    10000 non-null  int64  \n",
      " 10  HasCrCard        10000 non-null  int64  \n",
      " 11  IsActiveMember   10000 non-null  int64  \n",
      " 12  EstimatedSalary  10000 non-null  float64\n",
      " 13  Exited           10000 non-null  int64  \n",
      "dtypes: float64(2), int64(9), object(3)\n",
      "memory usage: 1.1+ MB\n"
     ]
    }
   ],
   "source": [
    "df.info()"
   ]
  },
  {
   "cell_type": "markdown",
   "id": "58211cd0",
   "metadata": {},
   "source": [
    "no values is missing or null"
   ]
  },
  {
   "cell_type": "code",
   "execution_count": 7,
   "id": "758187ec",
   "metadata": {},
   "outputs": [],
   "source": [
    "# Duplicated data handling"
   ]
  },
  {
   "cell_type": "code",
   "execution_count": 8,
   "id": "b9159a87",
   "metadata": {},
   "outputs": [
    {
     "data": {
      "text/plain": [
       "0"
      ]
     },
     "execution_count": 8,
     "metadata": {},
     "output_type": "execute_result"
    }
   ],
   "source": [
    "df.duplicated().sum()"
   ]
  },
  {
   "cell_type": "markdown",
   "id": "e2a19645",
   "metadata": {},
   "source": [
    "no data is **duplicated**"
   ]
  },
  {
   "cell_type": "code",
   "execution_count": 9,
   "id": "36d8d54b",
   "metadata": {},
   "outputs": [],
   "source": [
    "# Label and One hot encoding"
   ]
  },
  {
   "cell_type": "code",
   "execution_count": 10,
   "id": "8ddd30bc",
   "metadata": {},
   "outputs": [],
   "source": [
    "mapping_gender = {\n",
    "    'Male' : 0,\n",
    "    'Female' : 1\n",
    "}\n",
    "\n",
    "df['Gender'] = df['Gender'].map(mapping_gender)"
   ]
  },
  {
   "cell_type": "code",
   "execution_count": 11,
   "id": "ac58272a",
   "metadata": {},
   "outputs": [],
   "source": [
    "for cat in ['Geography']:\n",
    "  onehots = pd.get_dummies(df[cat], prefix=cat)\n",
    "  df = df.join(onehots)"
   ]
  },
  {
   "cell_type": "code",
   "execution_count": 12,
   "id": "04df0ea1",
   "metadata": {},
   "outputs": [],
   "source": [
    "# Split data"
   ]
  },
  {
   "cell_type": "code",
   "execution_count": 13,
   "id": "b70cd0ce",
   "metadata": {},
   "outputs": [],
   "source": [
    "X = df[['CreditScore', 'Gender', 'Age', 'Tenure', 'Balance', 'NumOfProducts', 'HasCrCard', 'IsActiveMember', 'EstimatedSalary',\n",
    "       'Geography_France', 'Geography_Germany', 'Geography_Spain']]\n",
    "y = df[['Exited']]\n",
    "\n",
    "from sklearn.model_selection import train_test_split\n",
    "X_train, X_test, y_train, y_test = train_test_split(X, y, test_size=0.3, random_state=42)"
   ]
  },
  {
   "cell_type": "code",
   "execution_count": 14,
   "id": "c9bddb0b",
   "metadata": {},
   "outputs": [],
   "source": [
    "# outlier handling"
   ]
  },
  {
   "cell_type": "code",
   "execution_count": 15,
   "id": "4bd260bf",
   "metadata": {},
   "outputs": [
    {
     "data": {
      "text/html": [
       "<div>\n",
       "<style scoped>\n",
       "    .dataframe tbody tr th:only-of-type {\n",
       "        vertical-align: middle;\n",
       "    }\n",
       "\n",
       "    .dataframe tbody tr th {\n",
       "        vertical-align: top;\n",
       "    }\n",
       "\n",
       "    .dataframe thead th {\n",
       "        text-align: right;\n",
       "    }\n",
       "</style>\n",
       "<table border=\"1\" class=\"dataframe\">\n",
       "  <thead>\n",
       "    <tr style=\"text-align: right;\">\n",
       "      <th></th>\n",
       "      <th>CreditScore</th>\n",
       "      <th>Gender</th>\n",
       "      <th>Age</th>\n",
       "      <th>Tenure</th>\n",
       "      <th>Balance</th>\n",
       "      <th>NumOfProducts</th>\n",
       "      <th>HasCrCard</th>\n",
       "      <th>IsActiveMember</th>\n",
       "      <th>EstimatedSalary</th>\n",
       "      <th>Geography_France</th>\n",
       "      <th>Geography_Germany</th>\n",
       "      <th>Geography_Spain</th>\n",
       "      <th>Exited</th>\n",
       "    </tr>\n",
       "  </thead>\n",
       "  <tbody>\n",
       "    <tr>\n",
       "      <th>9069</th>\n",
       "      <td>619</td>\n",
       "      <td>1</td>\n",
       "      <td>32</td>\n",
       "      <td>4</td>\n",
       "      <td>175406.13</td>\n",
       "      <td>2</td>\n",
       "      <td>1</td>\n",
       "      <td>1</td>\n",
       "      <td>172792.43</td>\n",
       "      <td>0</td>\n",
       "      <td>0</td>\n",
       "      <td>1</td>\n",
       "      <td>1</td>\n",
       "    </tr>\n",
       "    <tr>\n",
       "      <th>2603</th>\n",
       "      <td>643</td>\n",
       "      <td>1</td>\n",
       "      <td>34</td>\n",
       "      <td>7</td>\n",
       "      <td>160426.07</td>\n",
       "      <td>1</td>\n",
       "      <td>0</td>\n",
       "      <td>1</td>\n",
       "      <td>188533.11</td>\n",
       "      <td>0</td>\n",
       "      <td>1</td>\n",
       "      <td>0</td>\n",
       "      <td>0</td>\n",
       "    </tr>\n",
       "    <tr>\n",
       "      <th>7738</th>\n",
       "      <td>561</td>\n",
       "      <td>0</td>\n",
       "      <td>33</td>\n",
       "      <td>6</td>\n",
       "      <td>0.00</td>\n",
       "      <td>2</td>\n",
       "      <td>0</td>\n",
       "      <td>0</td>\n",
       "      <td>173680.39</td>\n",
       "      <td>1</td>\n",
       "      <td>0</td>\n",
       "      <td>0</td>\n",
       "      <td>0</td>\n",
       "    </tr>\n",
       "    <tr>\n",
       "      <th>1579</th>\n",
       "      <td>618</td>\n",
       "      <td>0</td>\n",
       "      <td>41</td>\n",
       "      <td>8</td>\n",
       "      <td>37702.79</td>\n",
       "      <td>1</td>\n",
       "      <td>1</td>\n",
       "      <td>1</td>\n",
       "      <td>195775.48</td>\n",
       "      <td>0</td>\n",
       "      <td>1</td>\n",
       "      <td>0</td>\n",
       "      <td>0</td>\n",
       "    </tr>\n",
       "    <tr>\n",
       "      <th>5058</th>\n",
       "      <td>714</td>\n",
       "      <td>0</td>\n",
       "      <td>37</td>\n",
       "      <td>9</td>\n",
       "      <td>148466.93</td>\n",
       "      <td>2</td>\n",
       "      <td>0</td>\n",
       "      <td>1</td>\n",
       "      <td>151280.96</td>\n",
       "      <td>1</td>\n",
       "      <td>0</td>\n",
       "      <td>0</td>\n",
       "      <td>0</td>\n",
       "    </tr>\n",
       "  </tbody>\n",
       "</table>\n",
       "</div>"
      ],
      "text/plain": [
       "      CreditScore  Gender  Age  Tenure    Balance  NumOfProducts  HasCrCard  \\\n",
       "9069          619       1   32       4  175406.13              2          1   \n",
       "2603          643       1   34       7  160426.07              1          0   \n",
       "7738          561       0   33       6       0.00              2          0   \n",
       "1579          618       0   41       8   37702.79              1          1   \n",
       "5058          714       0   37       9  148466.93              2          0   \n",
       "\n",
       "      IsActiveMember  EstimatedSalary  Geography_France  Geography_Germany  \\\n",
       "9069               1        172792.43                 0                  0   \n",
       "2603               1        188533.11                 0                  1   \n",
       "7738               0        173680.39                 1                  0   \n",
       "1579               1        195775.48                 0                  1   \n",
       "5058               1        151280.96                 1                  0   \n",
       "\n",
       "      Geography_Spain  Exited  \n",
       "9069                1       1  \n",
       "2603                0       0  \n",
       "7738                0       0  \n",
       "1579                0       0  \n",
       "5058                0       0  "
      ]
     },
     "execution_count": 15,
     "metadata": {},
     "output_type": "execute_result"
    }
   ],
   "source": [
    "df_train = X_train.join(y_train)\n",
    "df_train.head()"
   ]
  },
  {
   "cell_type": "code",
   "execution_count": 16,
   "id": "04157a03",
   "metadata": {},
   "outputs": [],
   "source": [
    "numcols = ['CreditScore', 'Age', 'Balance', 'EstimatedSalary']"
   ]
  },
  {
   "cell_type": "code",
   "execution_count": 17,
   "id": "3948696a",
   "metadata": {},
   "outputs": [
    {
     "name": "stdout",
     "output_type": "stream",
     "text": [
      "7000 rows before outlier filtering\n",
      "6903 rows after outlier filtering\n"
     ]
    }
   ],
   "source": [
    "from scipy import stats\n",
    "\n",
    "print(f'{len(df_train)} rows before outlier filtering')\n",
    "\n",
    "filtered_entries = np.array([True] * len(df_train))\n",
    "\n",
    "for col in numcols:\n",
    "    zscore = abs(stats.zscore(df_train[col]))\n",
    "    filtered_entries = (zscore < 3) & filtered_entries\n",
    "    \n",
    "df_train = df_train[filtered_entries]\n",
    "\n",
    "print(f'{len(df_train)} rows after outlier filtering')"
   ]
  },
  {
   "cell_type": "markdown",
   "id": "a1be048f",
   "metadata": {},
   "source": [
    "141 row has been filtered from outlier"
   ]
  },
  {
   "cell_type": "code",
   "execution_count": 18,
   "id": "0c09b8bb",
   "metadata": {},
   "outputs": [],
   "source": [
    "# Feature Transformation"
   ]
  },
  {
   "cell_type": "code",
   "execution_count": 19,
   "id": "2f1d6315",
   "metadata": {},
   "outputs": [
    {
     "data": {
      "text/plain": [
       "<AxesSubplot:xlabel='Age', ylabel='Density'>"
      ]
     },
     "execution_count": 19,
     "metadata": {},
     "output_type": "execute_result"
    },
    {
     "data": {
      "image/png": "[encoded data removed]",
      "text/plain": [
       "<Figure size 432x288 with 1 Axes>"
      ]
     },
     "metadata": {
      "needs_background": "light"
     },
     "output_type": "display_data"
    }
   ],
   "source": [
    "sns.kdeplot(x='Age', data=df_train)"
   ]
  },
  {
   "cell_type": "code",
   "execution_count": 20,
   "id": "256ff887",
   "metadata": {},
   "outputs": [
    {
     "data": {
      "text/plain": [
       "<AxesSubplot:xlabel='log_Age', ylabel='Density'>"
      ]
     },
     "execution_count": 20,
     "metadata": {},
     "output_type": "execute_result"
    },
    {
     "data": {
      "image/png": "[encoded data removed]",
      "text/plain": [
       "<Figure size 432x288 with 1 Axes>"
      ]
     },
     "metadata": {
      "needs_background": "light"
     },
     "output_type": "display_data"
    }
   ],
   "source": [
    "df_train['log_Age'] = np.log(df_train['Age'])\n",
    "\n",
    "sns.kdeplot(x='log_Age', data=df_train)"
   ]
  },
  {
   "cell_type": "code",
   "execution_count": 21,
   "id": "5036e809",
   "metadata": {},
   "outputs": [],
   "source": [
    "from sklearn.preprocessing import MinMaxScaler, StandardScaler\n",
    "\n",
    "df_train['CreditScore_std'] = MinMaxScaler().fit_transform(df_train['CreditScore'].values.reshape(len(df_train), 1))\n",
    "df_train['Balance_std'] = MinMaxScaler().fit_transform(df_train['Balance'].values.reshape(len(df_train), 1))\n",
    "df_train['EstimatedSalary_std'] = MinMaxScaler().fit_transform(df_train['EstimatedSalary'].values.reshape(len(df_train), 1))\n",
    "df_train['log_Age_std'] = MinMaxScaler().fit_transform(df_train['log_Age'].values.reshape(len(df_train), 1))"
   ]
  },
  {
   "cell_type": "code",
   "execution_count": 22,
   "id": "5a28709e",
   "metadata": {},
   "outputs": [
    {
     "data": {
      "text/html": [
       "<div>\n",
       "<style scoped>\n",
       "    .dataframe tbody tr th:only-of-type {\n",
       "        vertical-align: middle;\n",
       "    }\n",
       "\n",
       "    .dataframe tbody tr th {\n",
       "        vertical-align: top;\n",
       "    }\n",
       "\n",
       "    .dataframe thead th {\n",
       "        text-align: right;\n",
       "    }\n",
       "</style>\n",
       "<table border=\"1\" class=\"dataframe\">\n",
       "  <thead>\n",
       "    <tr style=\"text-align: right;\">\n",
       "      <th></th>\n",
       "      <th>CreditScore</th>\n",
       "      <th>Gender</th>\n",
       "      <th>Age</th>\n",
       "      <th>Tenure</th>\n",
       "      <th>Balance</th>\n",
       "      <th>NumOfProducts</th>\n",
       "      <th>HasCrCard</th>\n",
       "      <th>IsActiveMember</th>\n",
       "      <th>EstimatedSalary</th>\n",
       "      <th>Geography_France</th>\n",
       "      <th>Geography_Germany</th>\n",
       "      <th>Geography_Spain</th>\n",
       "      <th>Exited</th>\n",
       "      <th>log_Age</th>\n",
       "      <th>CreditScore_std</th>\n",
       "      <th>Balance_std</th>\n",
       "      <th>EstimatedSalary_std</th>\n",
       "      <th>log_Age_std</th>\n",
       "    </tr>\n",
       "  </thead>\n",
       "  <tbody>\n",
       "    <tr>\n",
       "      <th>count</th>\n",
       "      <td>6903.000000</td>\n",
       "      <td>6903.000000</td>\n",
       "      <td>6903.000000</td>\n",
       "      <td>6903.000000</td>\n",
       "      <td>6903.000000</td>\n",
       "      <td>6903.000000</td>\n",
       "      <td>6903.000000</td>\n",
       "      <td>6903.000000</td>\n",
       "      <td>6903.000000</td>\n",
       "      <td>6903.000000</td>\n",
       "      <td>6903.000000</td>\n",
       "      <td>6903.000000</td>\n",
       "      <td>6903.000000</td>\n",
       "      <td>6903.000000</td>\n",
       "      <td>6903.000000</td>\n",
       "      <td>6903.000000</td>\n",
       "      <td>6903.000000</td>\n",
       "      <td>6903.000000</td>\n",
       "    </tr>\n",
       "    <tr>\n",
       "      <th>mean</th>\n",
       "      <td>652.187600</td>\n",
       "      <td>0.452122</td>\n",
       "      <td>38.412285</td>\n",
       "      <td>4.987687</td>\n",
       "      <td>76519.063552</td>\n",
       "      <td>1.525279</td>\n",
       "      <td>0.705925</td>\n",
       "      <td>0.509344</td>\n",
       "      <td>100894.829394</td>\n",
       "      <td>0.500652</td>\n",
       "      <td>0.248877</td>\n",
       "      <td>0.250471</td>\n",
       "      <td>0.209184</td>\n",
       "      <td>3.617439</td>\n",
       "      <td>0.592139</td>\n",
       "      <td>0.304981</td>\n",
       "      <td>0.504325</td>\n",
       "      <td>0.535347</td>\n",
       "    </tr>\n",
       "    <tr>\n",
       "      <th>std</th>\n",
       "      <td>96.138893</td>\n",
       "      <td>0.497738</td>\n",
       "      <td>9.705013</td>\n",
       "      <td>2.883620</td>\n",
       "      <td>62524.711702</td>\n",
       "      <td>0.581435</td>\n",
       "      <td>0.455659</td>\n",
       "      <td>0.499949</td>\n",
       "      <td>57640.488043</td>\n",
       "      <td>0.500036</td>\n",
       "      <td>0.432394</td>\n",
       "      <td>0.433316</td>\n",
       "      <td>0.406756</td>\n",
       "      <td>0.248623</td>\n",
       "      <td>0.198225</td>\n",
       "      <td>0.249204</td>\n",
       "      <td>0.288374</td>\n",
       "      <td>0.183064</td>\n",
       "    </tr>\n",
       "    <tr>\n",
       "      <th>min</th>\n",
       "      <td>365.000000</td>\n",
       "      <td>0.000000</td>\n",
       "      <td>18.000000</td>\n",
       "      <td>0.000000</td>\n",
       "      <td>0.000000</td>\n",
       "      <td>1.000000</td>\n",
       "      <td>0.000000</td>\n",
       "      <td>0.000000</td>\n",
       "      <td>90.070000</td>\n",
       "      <td>0.000000</td>\n",
       "      <td>0.000000</td>\n",
       "      <td>0.000000</td>\n",
       "      <td>0.000000</td>\n",
       "      <td>2.890372</td>\n",
       "      <td>0.000000</td>\n",
       "      <td>0.000000</td>\n",
       "      <td>0.000000</td>\n",
       "      <td>0.000000</td>\n",
       "    </tr>\n",
       "    <tr>\n",
       "      <th>25%</th>\n",
       "      <td>585.000000</td>\n",
       "      <td>0.000000</td>\n",
       "      <td>32.000000</td>\n",
       "      <td>3.000000</td>\n",
       "      <td>0.000000</td>\n",
       "      <td>1.000000</td>\n",
       "      <td>0.000000</td>\n",
       "      <td>0.000000</td>\n",
       "      <td>51939.430000</td>\n",
       "      <td>0.000000</td>\n",
       "      <td>0.000000</td>\n",
       "      <td>0.000000</td>\n",
       "      <td>0.000000</td>\n",
       "      <td>3.465736</td>\n",
       "      <td>0.453608</td>\n",
       "      <td>0.000000</td>\n",
       "      <td>0.259402</td>\n",
       "      <td>0.423646</td>\n",
       "    </tr>\n",
       "    <tr>\n",
       "      <th>50%</th>\n",
       "      <td>653.000000</td>\n",
       "      <td>0.000000</td>\n",
       "      <td>37.000000</td>\n",
       "      <td>5.000000</td>\n",
       "      <td>96654.720000</td>\n",
       "      <td>1.000000</td>\n",
       "      <td>1.000000</td>\n",
       "      <td>1.000000</td>\n",
       "      <td>100919.190000</td>\n",
       "      <td>1.000000</td>\n",
       "      <td>0.000000</td>\n",
       "      <td>0.000000</td>\n",
       "      <td>0.000000</td>\n",
       "      <td>3.610918</td>\n",
       "      <td>0.593814</td>\n",
       "      <td>0.385235</td>\n",
       "      <td>0.504447</td>\n",
       "      <td>0.530545</td>\n",
       "    </tr>\n",
       "    <tr>\n",
       "      <th>75%</th>\n",
       "      <td>720.000000</td>\n",
       "      <td>1.000000</td>\n",
       "      <td>43.000000</td>\n",
       "      <td>7.000000</td>\n",
       "      <td>127878.415000</td>\n",
       "      <td>2.000000</td>\n",
       "      <td>1.000000</td>\n",
       "      <td>1.000000</td>\n",
       "      <td>150411.940000</td>\n",
       "      <td>1.000000</td>\n",
       "      <td>0.000000</td>\n",
       "      <td>1.000000</td>\n",
       "      <td>0.000000</td>\n",
       "      <td>3.761200</td>\n",
       "      <td>0.731959</td>\n",
       "      <td>0.509683</td>\n",
       "      <td>0.752058</td>\n",
       "      <td>0.641200</td>\n",
       "    </tr>\n",
       "    <tr>\n",
       "      <th>max</th>\n",
       "      <td>850.000000</td>\n",
       "      <td>1.000000</td>\n",
       "      <td>70.000000</td>\n",
       "      <td>10.000000</td>\n",
       "      <td>250898.090000</td>\n",
       "      <td>4.000000</td>\n",
       "      <td>1.000000</td>\n",
       "      <td>1.000000</td>\n",
       "      <td>199970.740000</td>\n",
       "      <td>1.000000</td>\n",
       "      <td>1.000000</td>\n",
       "      <td>1.000000</td>\n",
       "      <td>1.000000</td>\n",
       "      <td>4.248495</td>\n",
       "      <td>1.000000</td>\n",
       "      <td>1.000000</td>\n",
       "      <td>1.000000</td>\n",
       "      <td>1.000000</td>\n",
       "    </tr>\n",
       "  </tbody>\n",
       "</table>\n",
       "</div>"
      ],
      "text/plain": [
       "       CreditScore       Gender          Age       Tenure        Balance  \\\n",
       "count  6903.000000  6903.000000  6903.000000  6903.000000    6903.000000   \n",
       "mean    652.187600     0.452122    38.412285     4.987687   76519.063552   \n",
       "std      96.138893     0.497738     9.705013     2.883620   62524.711702   \n",
       "min     365.000000     0.000000    18.000000     0.000000       0.000000   \n",
       "25%     585.000000     0.000000    32.000000     3.000000       0.000000   \n",
       "50%     653.000000     0.000000    37.000000     5.000000   96654.720000   \n",
       "75%     720.000000     1.000000    43.000000     7.000000  127878.415000   \n",
       "max     850.000000     1.000000    70.000000    10.000000  250898.090000   \n",
       "\n",
       "       NumOfProducts    HasCrCard  IsActiveMember  EstimatedSalary  \\\n",
       "count    6903.000000  6903.000000     6903.000000      6903.000000   \n",
       "mean        1.525279     0.705925        0.509344    100894.829394   \n",
       "std         0.581435     0.455659        0.499949     57640.488043   \n",
       "min         1.000000     0.000000        0.000000        90.070000   \n",
       "25%         1.000000     0.000000        0.000000     51939.430000   \n",
       "50%         1.000000     1.000000        1.000000    100919.190000   \n",
       "75%         2.000000     1.000000        1.000000    150411.940000   \n",
       "max         4.000000     1.000000        1.000000    199970.740000   \n",
       "\n",
       "       Geography_France  Geography_Germany  Geography_Spain       Exited  \\\n",
       "count       6903.000000        6903.000000      6903.000000  6903.000000   \n",
       "mean           0.500652           0.248877         0.250471     0.209184   \n",
       "std            0.500036           0.432394         0.433316     0.406756   \n",
       "min            0.000000           0.000000         0.000000     0.000000   \n",
       "25%            0.000000           0.000000         0.000000     0.000000   \n",
       "50%            1.000000           0.000000         0.000000     0.000000   \n",
       "75%            1.000000           0.000000         1.000000     0.000000   \n",
       "max            1.000000           1.000000         1.000000     1.000000   \n",
       "\n",
       "           log_Age  CreditScore_std  Balance_std  EstimatedSalary_std  \\\n",
       "count  6903.000000      6903.000000  6903.000000          6903.000000   \n",
       "mean      3.617439         0.592139     0.304981             0.504325   \n",
       "std       0.248623         0.198225     0.249204             0.288374   \n",
       "min       2.890372         0.000000     0.000000             0.000000   \n",
       "25%       3.465736         0.453608     0.000000             0.259402   \n",
       "50%       3.610918         0.593814     0.385235             0.504447   \n",
       "75%       3.761200         0.731959     0.509683             0.752058   \n",
       "max       4.248495         1.000000     1.000000             1.000000   \n",
       "\n",
       "       log_Age_std  \n",
       "count  6903.000000  \n",
       "mean      0.535347  \n",
       "std       0.183064  \n",
       "min       0.000000  \n",
       "25%       0.423646  \n",
       "50%       0.530545  \n",
       "75%       0.641200  \n",
       "max       1.000000  "
      ]
     },
     "execution_count": 22,
     "metadata": {},
     "output_type": "execute_result"
    }
   ],
   "source": [
    "df_train.describe()"
   ]
  },
  {
   "cell_type": "code",
   "execution_count": 23,
   "id": "5d2c2978",
   "metadata": {},
   "outputs": [
    {
     "name": "stdout",
     "output_type": "stream",
     "text": [
      "<class 'pandas.core.frame.DataFrame'>\n",
      "Int64Index: 6903 entries, 9069 to 7270\n",
      "Data columns (total 18 columns):\n",
      " #   Column               Non-Null Count  Dtype  \n",
      "---  ------               --------------  -----  \n",
      " 0   CreditScore          6903 non-null   int64  \n",
      " 1   Gender               6903 non-null   int64  \n",
      " 2   Age                  6903 non-null   int64  \n",
      " 3   Tenure               6903 non-null   int64  \n",
      " 4   Balance              6903 non-null   float64\n",
      " 5   NumOfProducts        6903 non-null   int64  \n",
      " 6   HasCrCard            6903 non-null   int64  \n",
      " 7   IsActiveMember       6903 non-null   int64  \n",
      " 8   EstimatedSalary      6903 non-null   float64\n",
      " 9   Geography_France     6903 non-null   uint8  \n",
      " 10  Geography_Germany    6903 non-null   uint8  \n",
      " 11  Geography_Spain      6903 non-null   uint8  \n",
      " 12  Exited               6903 non-null   int64  \n",
      " 13  log_Age              6903 non-null   float64\n",
      " 14  CreditScore_std      6903 non-null   float64\n",
      " 15  Balance_std          6903 non-null   float64\n",
      " 16  EstimatedSalary_std  6903 non-null   float64\n",
      " 17  log_Age_std          6903 non-null   float64\n",
      "dtypes: float64(7), int64(8), uint8(3)\n",
      "memory usage: 1.1 MB\n"
     ]
    }
   ],
   "source": [
    "df_train.info()"
   ]
  },
  {
   "cell_type": "code",
   "execution_count": 24,
   "id": "e2537682",
   "metadata": {},
   "outputs": [],
   "source": [
    "df_train = df_train.drop(columns=['CreditScore', 'Age', 'Balance', 'EstimatedSalary', 'log_Age'])"
   ]
  },
  {
   "cell_type": "code",
   "execution_count": 25,
   "id": "9c38301c",
   "metadata": {},
   "outputs": [],
   "source": [
    "df_train.to_csv('cm_train_final_non_classimbhandling.csv', index = False)"
   ]
  },
  {
   "cell_type": "code",
   "execution_count": 26,
   "id": "0340e7e8",
   "metadata": {},
   "outputs": [],
   "source": [
    "# Class Imbalance Handling"
   ]
  },
  {
   "cell_type": "code",
   "execution_count": 27,
   "id": "bbcca152",
   "metadata": {},
   "outputs": [],
   "source": [
    "Xt = df_train[['Gender', 'Tenure', 'NumOfProducts', 'HasCrCard', 'IsActiveMember', \n",
    "               'Geography_France', 'Geography_Germany', 'Geography_Spain', \n",
    "               'CreditScore_std', 'Balance_std', 'EstimatedSalary_std', 'log_Age_std']]\n",
    "yt = df_train[['Exited']]\n",
    "\n",
    "from imblearn import under_sampling, over_sampling\n",
    "Xt_under, yt_under = under_sampling.RandomUnderSampler(0.5).fit_resample(Xt, yt)\n",
    "Xt_over, yt_over = over_sampling.RandomOverSampler(0.5).fit_resample(Xt, yt)\n",
    "Xt_over_SMOTE, yt_over_SMOTE = over_sampling.SMOTE(0.5).fit_resample(Xt, yt)"
   ]
  },
  {
   "cell_type": "code",
   "execution_count": 28,
   "id": "b2419286",
   "metadata": {},
   "outputs": [
    {
     "name": "stdout",
     "output_type": "stream",
     "text": [
      "Exited\n",
      "0         5459\n",
      "1         1444\n",
      "dtype: int64\n",
      "Exited\n",
      "0         2888\n",
      "1         1444\n",
      "dtype: int64\n",
      "Exited\n",
      "0         5459\n",
      "1         2729\n",
      "dtype: int64\n",
      "Exited\n",
      "0         5459\n",
      "1         2729\n",
      "dtype: int64\n"
     ]
    }
   ],
   "source": [
    "print(yt.value_counts())\n",
    "print(yt_under.value_counts())\n",
    "print(yt_over.value_counts())\n",
    "print(yt_over_SMOTE.value_counts())"
   ]
  },
  {
   "cell_type": "code",
   "execution_count": 29,
   "id": "489751c1",
   "metadata": {},
   "outputs": [
    {
     "name": "stdout",
     "output_type": "stream",
     "text": [
      "(6903, 12)\n",
      "(4332, 12)\n",
      "(8188, 12)\n",
      "(8188, 12)\n"
     ]
    }
   ],
   "source": [
    "print(Xt.shape)\n",
    "print(Xt_under.shape)\n",
    "print(Xt_over.shape)\n",
    "print(Xt_over_SMOTE.shape)"
   ]
  },
  {
   "cell_type": "code",
   "execution_count": 30,
   "id": "91e8bc43",
   "metadata": {},
   "outputs": [
    {
     "data": {
      "text/html": [
       "<div>\n",
       "<style scoped>\n",
       "    .dataframe tbody tr th:only-of-type {\n",
       "        vertical-align: middle;\n",
       "    }\n",
       "\n",
       "    .dataframe tbody tr th {\n",
       "        vertical-align: top;\n",
       "    }\n",
       "\n",
       "    .dataframe thead th {\n",
       "        text-align: right;\n",
       "    }\n",
       "</style>\n",
       "<table border=\"1\" class=\"dataframe\">\n",
       "  <thead>\n",
       "    <tr style=\"text-align: right;\">\n",
       "      <th></th>\n",
       "      <th>Gender</th>\n",
       "      <th>Tenure</th>\n",
       "      <th>NumOfProducts</th>\n",
       "      <th>HasCrCard</th>\n",
       "      <th>IsActiveMember</th>\n",
       "      <th>Geography_France</th>\n",
       "      <th>Geography_Germany</th>\n",
       "      <th>Geography_Spain</th>\n",
       "      <th>CreditScore_std</th>\n",
       "      <th>Balance_std</th>\n",
       "      <th>EstimatedSalary_std</th>\n",
       "      <th>log_Age_std</th>\n",
       "      <th>Exited</th>\n",
       "    </tr>\n",
       "  </thead>\n",
       "  <tbody>\n",
       "    <tr>\n",
       "      <th>0</th>\n",
       "      <td>1</td>\n",
       "      <td>4</td>\n",
       "      <td>2</td>\n",
       "      <td>1</td>\n",
       "      <td>1</td>\n",
       "      <td>0</td>\n",
       "      <td>0</td>\n",
       "      <td>1</td>\n",
       "      <td>0.523711</td>\n",
       "      <td>0.699113</td>\n",
       "      <td>0.864027</td>\n",
       "      <td>0.423646</td>\n",
       "      <td>1</td>\n",
       "    </tr>\n",
       "    <tr>\n",
       "      <th>1</th>\n",
       "      <td>1</td>\n",
       "      <td>7</td>\n",
       "      <td>1</td>\n",
       "      <td>0</td>\n",
       "      <td>1</td>\n",
       "      <td>0</td>\n",
       "      <td>1</td>\n",
       "      <td>0</td>\n",
       "      <td>0.573196</td>\n",
       "      <td>0.639407</td>\n",
       "      <td>0.942778</td>\n",
       "      <td>0.468285</td>\n",
       "      <td>0</td>\n",
       "    </tr>\n",
       "    <tr>\n",
       "      <th>2</th>\n",
       "      <td>0</td>\n",
       "      <td>6</td>\n",
       "      <td>2</td>\n",
       "      <td>0</td>\n",
       "      <td>0</td>\n",
       "      <td>1</td>\n",
       "      <td>0</td>\n",
       "      <td>0</td>\n",
       "      <td>0.404124</td>\n",
       "      <td>0.000000</td>\n",
       "      <td>0.868470</td>\n",
       "      <td>0.446304</td>\n",
       "      <td>0</td>\n",
       "    </tr>\n",
       "    <tr>\n",
       "      <th>3</th>\n",
       "      <td>0</td>\n",
       "      <td>8</td>\n",
       "      <td>1</td>\n",
       "      <td>1</td>\n",
       "      <td>1</td>\n",
       "      <td>0</td>\n",
       "      <td>1</td>\n",
       "      <td>0</td>\n",
       "      <td>0.521649</td>\n",
       "      <td>0.150271</td>\n",
       "      <td>0.979011</td>\n",
       "      <td>0.606131</td>\n",
       "      <td>0</td>\n",
       "    </tr>\n",
       "    <tr>\n",
       "      <th>4</th>\n",
       "      <td>0</td>\n",
       "      <td>9</td>\n",
       "      <td>2</td>\n",
       "      <td>0</td>\n",
       "      <td>1</td>\n",
       "      <td>1</td>\n",
       "      <td>0</td>\n",
       "      <td>0</td>\n",
       "      <td>0.719588</td>\n",
       "      <td>0.591742</td>\n",
       "      <td>0.756406</td>\n",
       "      <td>0.530545</td>\n",
       "      <td>0</td>\n",
       "    </tr>\n",
       "  </tbody>\n",
       "</table>\n",
       "</div>"
      ],
      "text/plain": [
       "   Gender  Tenure  NumOfProducts  HasCrCard  IsActiveMember  Geography_France  \\\n",
       "0       1       4              2          1               1                 0   \n",
       "1       1       7              1          0               1                 0   \n",
       "2       0       6              2          0               0                 1   \n",
       "3       0       8              1          1               1                 0   \n",
       "4       0       9              2          0               1                 1   \n",
       "\n",
       "   Geography_Germany  Geography_Spain  CreditScore_std  Balance_std  \\\n",
       "0                  0                1         0.523711     0.699113   \n",
       "1                  1                0         0.573196     0.639407   \n",
       "2                  0                0         0.404124     0.000000   \n",
       "3                  1                0         0.521649     0.150271   \n",
       "4                  0                0         0.719588     0.591742   \n",
       "\n",
       "   EstimatedSalary_std  log_Age_std  Exited  \n",
       "0             0.864027     0.423646       1  \n",
       "1             0.942778     0.468285       0  \n",
       "2             0.868470     0.446304       0  \n",
       "3             0.979011     0.606131       0  \n",
       "4             0.756406     0.530545       0  "
      ]
     },
     "execution_count": 30,
     "metadata": {},
     "output_type": "execute_result"
    }
   ],
   "source": [
    "XtYt_smote = Xt_over_SMOTE.join(yt_over_SMOTE)\n",
    "XtYt_smote.head()"
   ]
  },
  {
   "cell_type": "code",
   "execution_count": 31,
   "id": "b5e72d7e",
   "metadata": {},
   "outputs": [],
   "source": [
    "XtYt_smote.to_csv('cm_train_final.csv', index = False)"
   ]
  },
  {
   "cell_type": "markdown",
   "id": "c77fb2b7",
   "metadata": {},
   "source": [
    "## Test Data Preprocessing (Log Transformation and Standardization)"
   ]
  },
  {
   "cell_type": "code",
   "execution_count": 32,
   "id": "7aa3dbee",
   "metadata": {},
   "outputs": [
    {
     "data": {
      "text/html": [
       "<div>\n",
       "<style scoped>\n",
       "    .dataframe tbody tr th:only-of-type {\n",
       "        vertical-align: middle;\n",
       "    }\n",
       "\n",
       "    .dataframe tbody tr th {\n",
       "        vertical-align: top;\n",
       "    }\n",
       "\n",
       "    .dataframe thead th {\n",
       "        text-align: right;\n",
       "    }\n",
       "</style>\n",
       "<table border=\"1\" class=\"dataframe\">\n",
       "  <thead>\n",
       "    <tr style=\"text-align: right;\">\n",
       "      <th></th>\n",
       "      <th>CreditScore</th>\n",
       "      <th>Gender</th>\n",
       "      <th>Age</th>\n",
       "      <th>Tenure</th>\n",
       "      <th>Balance</th>\n",
       "      <th>NumOfProducts</th>\n",
       "      <th>HasCrCard</th>\n",
       "      <th>IsActiveMember</th>\n",
       "      <th>EstimatedSalary</th>\n",
       "      <th>Geography_France</th>\n",
       "      <th>Geography_Germany</th>\n",
       "      <th>Geography_Spain</th>\n",
       "      <th>Exited</th>\n",
       "    </tr>\n",
       "  </thead>\n",
       "  <tbody>\n",
       "    <tr>\n",
       "      <th>6252</th>\n",
       "      <td>596</td>\n",
       "      <td>0</td>\n",
       "      <td>32</td>\n",
       "      <td>3</td>\n",
       "      <td>96709.07</td>\n",
       "      <td>2</td>\n",
       "      <td>0</td>\n",
       "      <td>0</td>\n",
       "      <td>41788.37</td>\n",
       "      <td>0</td>\n",
       "      <td>1</td>\n",
       "      <td>0</td>\n",
       "      <td>0</td>\n",
       "    </tr>\n",
       "    <tr>\n",
       "      <th>4684</th>\n",
       "      <td>623</td>\n",
       "      <td>0</td>\n",
       "      <td>43</td>\n",
       "      <td>1</td>\n",
       "      <td>0.00</td>\n",
       "      <td>2</td>\n",
       "      <td>1</td>\n",
       "      <td>1</td>\n",
       "      <td>146379.30</td>\n",
       "      <td>1</td>\n",
       "      <td>0</td>\n",
       "      <td>0</td>\n",
       "      <td>0</td>\n",
       "    </tr>\n",
       "    <tr>\n",
       "      <th>1731</th>\n",
       "      <td>601</td>\n",
       "      <td>1</td>\n",
       "      <td>44</td>\n",
       "      <td>4</td>\n",
       "      <td>0.00</td>\n",
       "      <td>2</td>\n",
       "      <td>1</td>\n",
       "      <td>0</td>\n",
       "      <td>58561.31</td>\n",
       "      <td>0</td>\n",
       "      <td>0</td>\n",
       "      <td>1</td>\n",
       "      <td>0</td>\n",
       "    </tr>\n",
       "    <tr>\n",
       "      <th>4742</th>\n",
       "      <td>506</td>\n",
       "      <td>0</td>\n",
       "      <td>59</td>\n",
       "      <td>8</td>\n",
       "      <td>119152.10</td>\n",
       "      <td>2</td>\n",
       "      <td>1</td>\n",
       "      <td>1</td>\n",
       "      <td>170679.74</td>\n",
       "      <td>0</td>\n",
       "      <td>1</td>\n",
       "      <td>0</td>\n",
       "      <td>0</td>\n",
       "    </tr>\n",
       "    <tr>\n",
       "      <th>4521</th>\n",
       "      <td>560</td>\n",
       "      <td>1</td>\n",
       "      <td>27</td>\n",
       "      <td>7</td>\n",
       "      <td>124995.98</td>\n",
       "      <td>1</td>\n",
       "      <td>1</td>\n",
       "      <td>1</td>\n",
       "      <td>114669.79</td>\n",
       "      <td>0</td>\n",
       "      <td>0</td>\n",
       "      <td>1</td>\n",
       "      <td>0</td>\n",
       "    </tr>\n",
       "  </tbody>\n",
       "</table>\n",
       "</div>"
      ],
      "text/plain": [
       "      CreditScore  Gender  Age  Tenure    Balance  NumOfProducts  HasCrCard  \\\n",
       "6252          596       0   32       3   96709.07              2          0   \n",
       "4684          623       0   43       1       0.00              2          1   \n",
       "1731          601       1   44       4       0.00              2          1   \n",
       "4742          506       0   59       8  119152.10              2          1   \n",
       "4521          560       1   27       7  124995.98              1          1   \n",
       "\n",
       "      IsActiveMember  EstimatedSalary  Geography_France  Geography_Germany  \\\n",
       "6252               0         41788.37                 0                  1   \n",
       "4684               1        146379.30                 1                  0   \n",
       "1731               0         58561.31                 0                  0   \n",
       "4742               1        170679.74                 0                  1   \n",
       "4521               1        114669.79                 0                  0   \n",
       "\n",
       "      Geography_Spain  Exited  \n",
       "6252                0       0  \n",
       "4684                0       0  \n",
       "1731                1       0  \n",
       "4742                0       0  \n",
       "4521                1       0  "
      ]
     },
     "execution_count": 32,
     "metadata": {},
     "output_type": "execute_result"
    }
   ],
   "source": [
    "df_test = X_test.join(y_test)\n",
    "df_test.head()"
   ]
  },
  {
   "cell_type": "code",
   "execution_count": 33,
   "id": "5c3e09ae",
   "metadata": {},
   "outputs": [
    {
     "data": {
      "text/plain": [
       "<AxesSubplot:xlabel='Age', ylabel='Density'>"
      ]
     },
     "execution_count": 33,
     "metadata": {},
     "output_type": "execute_result"
    },
    {
     "data": {
      "image/png": "[encoded data removed]",
      "text/plain": [
       "<Figure size 432x288 with 1 Axes>"
      ]
     },
     "metadata": {
      "needs_background": "light"
     },
     "output_type": "display_data"
    }
   ],
   "source": [
    "sns.kdeplot(x = 'Age', data = df_test)"
   ]
  },
  {
   "cell_type": "code",
   "execution_count": 34,
   "id": "80b0f06a",
   "metadata": {},
   "outputs": [
    {
     "data": {
      "text/plain": [
       "<AxesSubplot:xlabel='log_Age', ylabel='Density'>"
      ]
     },
     "execution_count": 34,
     "metadata": {},
     "output_type": "execute_result"
    },
    {
     "data": {
      "image/png": "[encoded data removed]",
      "text/plain": [
       "<Figure size 432x288 with 1 Axes>"
      ]
     },
     "metadata": {
      "needs_background": "light"
     },
     "output_type": "display_data"
    }
   ],
   "source": [
    "df_test['log_Age'] = np.log(df_test['Age'])\n",
    "\n",
    "sns.kdeplot(x = 'log_Age', data = df_test)"
   ]
  },
  {
   "cell_type": "code",
   "execution_count": 35,
   "id": "96a7c8b4",
   "metadata": {},
   "outputs": [],
   "source": [
    "from sklearn.preprocessing import MinMaxScaler, StandardScaler\n",
    "\n",
    "df_test['CreditScore_std'] = MinMaxScaler().fit_transform(df_test['CreditScore'].values.reshape(len(df_test), 1))\n",
    "df_test['Balance_std'] = MinMaxScaler().fit_transform(df_test['Balance'].values.reshape(len(df_test), 1))\n",
    "df_test['EstimatedSalary_std'] = MinMaxScaler().fit_transform(df_test['EstimatedSalary'].values.reshape(len(df_test), 1))\n",
    "df_test['log_Age_std'] = MinMaxScaler().fit_transform(df_test['log_Age'].values.reshape(len(df_test), 1))"
   ]
  },
  {
   "cell_type": "code",
   "execution_count": 36,
   "id": "70b453c0",
   "metadata": {},
   "outputs": [],
   "source": [
    "df_test = df_test.drop(columns=['CreditScore', 'Age', 'Balance', 'EstimatedSalary', 'log_Age'])"
   ]
  },
  {
   "cell_type": "code",
   "execution_count": 37,
   "id": "c792b4bd",
   "metadata": {},
   "outputs": [],
   "source": [
    "Xts = df_test[['Gender', 'Tenure', 'NumOfProducts', 'HasCrCard', 'IsActiveMember', \n",
    "               'Geography_France', 'Geography_Germany', 'Geography_Spain', \n",
    "               'CreditScore_std', 'Balance_std', 'EstimatedSalary_std', 'log_Age_std']]\n",
    "yts = df_test[['Exited']]"
   ]
  },
  {
   "cell_type": "code",
   "execution_count": 38,
   "id": "3027e4f6",
   "metadata": {},
   "outputs": [
    {
     "data": {
      "text/html": [
       "<div>\n",
       "<style scoped>\n",
       "    .dataframe tbody tr th:only-of-type {\n",
       "        vertical-align: middle;\n",
       "    }\n",
       "\n",
       "    .dataframe tbody tr th {\n",
       "        vertical-align: top;\n",
       "    }\n",
       "\n",
       "    .dataframe thead th {\n",
       "        text-align: right;\n",
       "    }\n",
       "</style>\n",
       "<table border=\"1\" class=\"dataframe\">\n",
       "  <thead>\n",
       "    <tr style=\"text-align: right;\">\n",
       "      <th></th>\n",
       "      <th>Gender</th>\n",
       "      <th>Tenure</th>\n",
       "      <th>NumOfProducts</th>\n",
       "      <th>HasCrCard</th>\n",
       "      <th>IsActiveMember</th>\n",
       "      <th>Geography_France</th>\n",
       "      <th>Geography_Germany</th>\n",
       "      <th>Geography_Spain</th>\n",
       "      <th>CreditScore_std</th>\n",
       "      <th>Balance_std</th>\n",
       "      <th>EstimatedSalary_std</th>\n",
       "      <th>log_Age_std</th>\n",
       "      <th>Exited</th>\n",
       "    </tr>\n",
       "  </thead>\n",
       "  <tbody>\n",
       "    <tr>\n",
       "      <th>6252</th>\n",
       "      <td>0</td>\n",
       "      <td>3</td>\n",
       "      <td>2</td>\n",
       "      <td>0</td>\n",
       "      <td>0</td>\n",
       "      <td>0</td>\n",
       "      <td>1</td>\n",
       "      <td>0</td>\n",
       "      <td>0.492</td>\n",
       "      <td>0.447500</td>\n",
       "      <td>0.208904</td>\n",
       "      <td>0.352678</td>\n",
       "      <td>0</td>\n",
       "    </tr>\n",
       "    <tr>\n",
       "      <th>4684</th>\n",
       "      <td>0</td>\n",
       "      <td>1</td>\n",
       "      <td>2</td>\n",
       "      <td>1</td>\n",
       "      <td>1</td>\n",
       "      <td>1</td>\n",
       "      <td>0</td>\n",
       "      <td>0</td>\n",
       "      <td>0.546</td>\n",
       "      <td>0.000000</td>\n",
       "      <td>0.731908</td>\n",
       "      <td>0.533787</td>\n",
       "      <td>0</td>\n",
       "    </tr>\n",
       "    <tr>\n",
       "      <th>1731</th>\n",
       "      <td>1</td>\n",
       "      <td>4</td>\n",
       "      <td>2</td>\n",
       "      <td>1</td>\n",
       "      <td>0</td>\n",
       "      <td>0</td>\n",
       "      <td>0</td>\n",
       "      <td>1</td>\n",
       "      <td>0.502</td>\n",
       "      <td>0.000000</td>\n",
       "      <td>0.292777</td>\n",
       "      <td>0.547878</td>\n",
       "      <td>0</td>\n",
       "    </tr>\n",
       "    <tr>\n",
       "      <th>4742</th>\n",
       "      <td>0</td>\n",
       "      <td>8</td>\n",
       "      <td>2</td>\n",
       "      <td>1</td>\n",
       "      <td>1</td>\n",
       "      <td>0</td>\n",
       "      <td>1</td>\n",
       "      <td>0</td>\n",
       "      <td>0.312</td>\n",
       "      <td>0.551350</td>\n",
       "      <td>0.853422</td>\n",
       "      <td>0.727690</td>\n",
       "      <td>0</td>\n",
       "    </tr>\n",
       "    <tr>\n",
       "      <th>4521</th>\n",
       "      <td>1</td>\n",
       "      <td>7</td>\n",
       "      <td>1</td>\n",
       "      <td>1</td>\n",
       "      <td>1</td>\n",
       "      <td>0</td>\n",
       "      <td>0</td>\n",
       "      <td>1</td>\n",
       "      <td>0.420</td>\n",
       "      <td>0.578391</td>\n",
       "      <td>0.573346</td>\n",
       "      <td>0.248536</td>\n",
       "      <td>0</td>\n",
       "    </tr>\n",
       "  </tbody>\n",
       "</table>\n",
       "</div>"
      ],
      "text/plain": [
       "      Gender  Tenure  NumOfProducts  HasCrCard  IsActiveMember  \\\n",
       "6252       0       3              2          0               0   \n",
       "4684       0       1              2          1               1   \n",
       "1731       1       4              2          1               0   \n",
       "4742       0       8              2          1               1   \n",
       "4521       1       7              1          1               1   \n",
       "\n",
       "      Geography_France  Geography_Germany  Geography_Spain  CreditScore_std  \\\n",
       "6252                 0                  1                0            0.492   \n",
       "4684                 1                  0                0            0.546   \n",
       "1731                 0                  0                1            0.502   \n",
       "4742                 0                  1                0            0.312   \n",
       "4521                 0                  0                1            0.420   \n",
       "\n",
       "      Balance_std  EstimatedSalary_std  log_Age_std  Exited  \n",
       "6252     0.447500             0.208904     0.352678       0  \n",
       "4684     0.000000             0.731908     0.533787       0  \n",
       "1731     0.000000             0.292777     0.547878       0  \n",
       "4742     0.551350             0.853422     0.727690       0  \n",
       "4521     0.578391             0.573346     0.248536       0  "
      ]
     },
     "execution_count": 38,
     "metadata": {},
     "output_type": "execute_result"
    }
   ],
   "source": [
    "XtsYts = Xts.join(yts)\n",
    "XtsYts.head()"
   ]
  },
  {
   "cell_type": "code",
   "execution_count": 39,
   "id": "8f4f3c7c",
   "metadata": {},
   "outputs": [],
   "source": [
    "XtsYts.to_csv('cm_test_final.csv', index = False)"
   ]
  },
  {
   "cell_type": "markdown",
   "id": "67586a90",
   "metadata": {},
   "source": [
    "."
   ]
  },
  {
   "cell_type": "markdown",
   "id": "eeac46fd",
   "metadata": {},
   "source": [
    "# ML PROCESS"
   ]
  },
  {
   "cell_type": "code",
   "execution_count": 41,
   "id": "50916ada",
   "metadata": {},
   "outputs": [],
   "source": [
    "mcln_train = pd.read_csv('cm_train_final.csv')\n",
    "mcln_test = pd.read_csv('cm_test_final.csv')\n",
    "\n",
    "# Training\n",
    "X_train = mcln_train[['Gender', 'Tenure', 'NumOfProducts', 'HasCrCard', 'IsActiveMember',\n",
    "                      'Geography_France', 'Geography_Germany', 'Geography_Spain',\n",
    "                      'CreditScore_std', 'Balance_std', 'EstimatedSalary_std', 'log_Age_std']]\n",
    "y_train = mcln_train[['Exited']]\n",
    "\n",
    "# Testing\n",
    "X_test = mcln_test[['Gender', 'Tenure', 'NumOfProducts', 'HasCrCard', 'IsActiveMember',\n",
    "                    'Geography_France', 'Geography_Germany', 'Geography_Spain',\n",
    "                    'CreditScore_std', 'Balance_std', 'EstimatedSalary_std', 'log_Age_std']]\n",
    "y_test = mcln_test[['Exited']]"
   ]
  },
  {
   "cell_type": "code",
   "execution_count": 42,
   "id": "9e90b360",
   "metadata": {},
   "outputs": [],
   "source": [
    "from sklearn.metrics import accuracy_score, precision_score, recall_score, f1_score, roc_auc_score\n",
    "import matplotlib.pyplot as plt\n",
    "\n",
    "def eval_classification(model):\n",
    "    y_pred = model.predict(X_test)\n",
    "    y_pred_train = model.predict(X_train)\n",
    "    y_pred_proba = model.predict_proba(X_test)\n",
    "    y_pred_proba_train = model.predict_proba(X_train)\n",
    "    \n",
    "    print(\"Accuracy (Test Set): %.2f\" % accuracy_score(y_test, y_pred))\n",
    "    #print(\"Accuracy (Train Set): %.2f\" % accuracy_score(y_train, y_pred_train))\n",
    "    print(\"Precision (Test Set): %.2f\" % precision_score(y_test, y_pred))\n",
    "    #print(\"Precision (Train Set): %.2f\" % precision_score(y_train, y_pred_train))\n",
    "    print(\"Recall (Test Set): %.2f\" % recall_score(y_test, y_pred))\n",
    "    #print(\"Recall (Train Set): %.2f\" % recall_score(y_train, y_pred_train))\n",
    "    print(\"F1-Score (Test Set): %.2f\" % f1_score(y_test, y_pred))\n",
    "    #print(\"F1-Score (Train Set): %.2f\" % f1_score(y_train, y_pred_train))\n",
    "    \n",
    "    print(\"AUC (test-proba): %.2f\" % roc_auc_score(y_test, y_pred_proba[:, 1]))\n",
    "    print(\"AUC (train-proba): %.2f\" % roc_auc_score(y_train, y_pred_proba_train[:, 1]))\n",
    "#     print(\"AUC (test-label): %.2f\" % roc_auc_score(y_test, y_pred))\n",
    "#     print(\"AUC (train-label): %.2f\" % roc_auc_score(y_train, y_pred_train))\n",
    "\n",
    "def show_feature_importance(model):\n",
    "    feat_importances = pd.Series(model.feature_importances_, index=X_train.columns)\n",
    "    ax = feat_importances.nlargest(25).plot(kind='barh', figsize=(10, 8))\n",
    "    ax.invert_yaxis()\n",
    "\n",
    "    plt.xlabel('score')\n",
    "    plt.ylabel('feature')\n",
    "    plt.title('feature importance score')\n",
    "\n",
    "def show_best_hyperparameter(model):\n",
    "    print(model.best_estimator_.get_params())"
   ]
  },
  {
   "cell_type": "markdown",
   "id": "cabf68bf",
   "metadata": {},
   "source": [
    "### 1. LogisticRegression"
   ]
  },
  {
   "cell_type": "code",
   "execution_count": 43,
   "id": "b8dbf0ce",
   "metadata": {},
   "outputs": [
    {
     "name": "stdout",
     "output_type": "stream",
     "text": [
      "Accuracy (Test Set): 0.82\n",
      "Precision (Test Set): 0.57\n",
      "Recall (Test Set): 0.27\n",
      "F1-Score (Test Set): 0.37\n",
      "AUC (test-proba): 0.78\n",
      "AUC (train-proba): 0.80\n"
     ]
    }
   ],
   "source": [
    "from sklearn.linear_model import LogisticRegression\n",
    "lr = LogisticRegression(random_state=42)\n",
    "lr.fit(X_train, y_train)\n",
    "\n",
    "eval_classification(lr)"
   ]
  },
  {
   "cell_type": "markdown",
   "id": "8f0487e7",
   "metadata": {},
   "source": [
    "### K-Nearest Neighbor"
   ]
  },
  {
   "cell_type": "code",
   "execution_count": 44,
   "id": "99e27054",
   "metadata": {},
   "outputs": [
    {
     "name": "stdout",
     "output_type": "stream",
     "text": [
      "Accuracy (Test Set): 0.77\n",
      "Precision (Test Set): 0.42\n",
      "Recall (Test Set): 0.42\n",
      "F1-Score (Test Set): 0.42\n",
      "AUC (test-proba): 0.72\n",
      "AUC (train-proba): 0.94\n"
     ]
    }
   ],
   "source": [
    "from sklearn.neighbors import KNeighborsClassifier\n",
    "knn = KNeighborsClassifier()\n",
    "knn.fit(X_train,y_train)\n",
    "eval_classification(knn)"
   ]
  },
  {
   "cell_type": "code",
   "execution_count": 45,
   "id": "8f254e3e",
   "metadata": {},
   "outputs": [
    {
     "name": "stdout",
     "output_type": "stream",
     "text": [
      "param value: 30; train: 0.8339727759034652; test: 0.7752235382835889\n",
      "param value: 31; train: 0.8339727759034652; test: 0.7752235382835889\n",
      "param value: 32; train: 0.8339727759034652; test: 0.7752235382835889\n",
      "param value: 33; train: 0.8339727759034652; test: 0.7752235382835889\n",
      "param value: 34; train: 0.8339727759034652; test: 0.7752235382835889\n",
      "param value: 35; train: 0.8339727759034652; test: 0.7752235382835889\n",
      "param value: 36; train: 0.8339727759034652; test: 0.7752235382835889\n",
      "param value: 37; train: 0.8339727759034652; test: 0.7752235382835889\n",
      "param value: 38; train: 0.8339727759034652; test: 0.7752235382835889\n",
      "param value: 39; train: 0.8339727759034652; test: 0.7752235382835889\n",
      "param value: 40; train: 0.8339727759034652; test: 0.7752235382835889\n",
      "param value: 41; train: 0.8339727759034652; test: 0.7752235382835889\n",
      "param value: 42; train: 0.8339727759034652; test: 0.7752235382835889\n",
      "param value: 43; train: 0.8339727759034652; test: 0.7752235382835889\n",
      "param value: 44; train: 0.8339727759034652; test: 0.7752235382835889\n",
      "param value: 45; train: 0.8339727759034652; test: 0.7752235382835889\n",
      "param value: 46; train: 0.8339727759034652; test: 0.7752235382835889\n",
      "param value: 47; train: 0.8339727759034652; test: 0.7752235382835889\n",
      "param value: 48; train: 0.8339727759034652; test: 0.7752235382835889\n",
      "param value: 49; train: 0.8339727759034652; test: 0.7752235382835889\n",
      "param value: 50; train: 0.8339727759034652; test: 0.7752235382835889\n"
     ]
    },
    {
     "data": {
      "image/png": "[encoded data removed]",
      "text/plain": [
       "<Figure size 432x288 with 1 Axes>"
      ]
     },
     "metadata": {
      "needs_background": "light"
     },
     "output_type": "display_data"
    }
   ],
   "source": [
    "param_values = [int(x) for x in np.linspace(30, 50, 21)]\n",
    "\n",
    "train_scores = []\n",
    "test_scores = []\n",
    "\n",
    "for cknn in param_values:\n",
    "  model = KNeighborsClassifier(n_neighbors = 36, p = 4, leaf_size = cknn)\n",
    "  model.fit(X_train, y_train)\n",
    "\t\n",
    "  y_pred_train_proba = model.predict_proba(X_train)\n",
    "  train_auc = roc_auc_score(y_train, y_pred_train_proba[:,1])\n",
    "  train_scores.append(train_auc)\n",
    "  \n",
    "  y_pred_proba = model.predict_proba(X_test)\n",
    "  test_auc = roc_auc_score(y_test, y_pred_proba[:,1])\n",
    "  test_scores.append(test_auc)\n",
    "  \n",
    "  print('param value: ' + str(cknn) + '; train: ' + str(train_auc) + '; test: ' + str(test_auc))\n",
    "\n",
    "plt.plot(param_values, train_scores, label = 'Train')\n",
    "plt.plot(param_values, test_scores, label = 'Test')\n",
    "plt.legend()\n",
    "plt.show()"
   ]
  },
  {
   "cell_type": "code",
   "execution_count": 46,
   "id": "790d7cfe",
   "metadata": {},
   "outputs": [
    {
     "name": "stdout",
     "output_type": "stream",
     "text": [
      "Accuracy (Test Set): 0.82\n",
      "Precision (Test Set): 0.55\n",
      "Recall (Test Set): 0.35\n",
      "F1-Score (Test Set): 0.43\n",
      "AUC (test-proba): 0.79\n",
      "AUC (train-proba): 0.83\n"
     ]
    }
   ],
   "source": [
    "from sklearn.neighbors import KNeighborsClassifier\n",
    "knn_tuned = KNeighborsClassifier(n_neighbors = 59, p = 1, leaf_size = 30,  weights = 'uniform')\n",
    "knn_tuned.fit(X_train,y_train)\n",
    "eval_classification(knn_tuned)"
   ]
  },
  {
   "cell_type": "markdown",
   "id": "145d361f",
   "metadata": {},
   "source": [
    "### Decision Tree"
   ]
  },
  {
   "cell_type": "code",
   "execution_count": 47,
   "id": "790f8a3f",
   "metadata": {},
   "outputs": [
    {
     "name": "stdout",
     "output_type": "stream",
     "text": [
      "Accuracy (Test Set): 0.78\n",
      "Precision (Test Set): 0.45\n",
      "Recall (Test Set): 0.49\n",
      "F1-Score (Test Set): 0.47\n",
      "AUC (test-proba): 0.67\n",
      "AUC (train-proba): 1.00\n"
     ]
    }
   ],
   "source": [
    "from sklearn.tree import DecisionTreeClassifier\n",
    "dtc = DecisionTreeClassifier(random_state=1)\n",
    "dtc.fit(X_train,y_train)\n",
    "\n",
    "eval_classification(dtc)"
   ]
  },
  {
   "cell_type": "code",
   "execution_count": 48,
   "id": "553660ad",
   "metadata": {},
   "outputs": [
    {
     "name": "stdout",
     "output_type": "stream",
     "text": [
      "Accuracy (Test Set): 0.83\n",
      "Precision (Test Set): 0.63\n",
      "Recall (Test Set): 0.32\n",
      "F1-Score (Test Set): 0.42\n",
      "AUC (test-proba): 0.80\n",
      "AUC (train-proba): 0.86\n"
     ]
    }
   ],
   "source": [
    "from sklearn.model_selection import RandomizedSearchCV, GridSearchCV\n",
    "from scipy.stats import uniform\n",
    "\n",
    "criterion = ['gini', 'entropy']\n",
    "max_depth = [int(x) for x in np.linspace(1, 100, 100)]\n",
    "min_samples_split = [int(x) for x in np.linspace(2, 200, 100)]\n",
    "min_samples_leaf = [int(x) for x in np.linspace(1, 100, 100)]\n",
    "max_features = ['auto', 'sqrt']\n",
    "random_state = [int(x) for x in np.linspace(1, 84, 100)]\n",
    "hyperparameters = dict(criterion=criterion, max_depth=max_depth, min_samples_split=min_samples_split, \n",
    "                       min_samples_leaf=min_samples_leaf, max_features=max_features)\n",
    "\n",
    "dtc.fit(X_train, y_train)\n",
    "rs_dtc = RandomizedSearchCV(dtc, hyperparameters, scoring = 'roc_auc', cv = 5)\n",
    "rs_dtc.fit(X_train, y_train)\n",
    "eval_classification(rs_dtc)"
   ]
  },
  {
   "cell_type": "code",
   "execution_count": 49,
   "id": "87f70fe5",
   "metadata": {},
   "outputs": [
    {
     "name": "stdout",
     "output_type": "stream",
     "text": [
      "{'ccp_alpha': 0.0, 'class_weight': None, 'criterion': 'entropy', 'max_depth': 20, 'max_features': 'sqrt', 'max_leaf_nodes': None, 'min_impurity_decrease': 0.0, 'min_samples_leaf': 67, 'min_samples_split': 144, 'min_weight_fraction_leaf': 0.0, 'random_state': 1, 'splitter': 'best'}\n"
     ]
    }
   ],
   "source": [
    "show_best_hyperparameter(rs_dtc)"
   ]
  },
  {
   "cell_type": "code",
   "execution_count": 50,
   "id": "21111aef",
   "metadata": {},
   "outputs": [
    {
     "name": "stdout",
     "output_type": "stream",
     "text": [
      "roc_auc(train): 0.8037384061779921\n",
      "roc_auc(test): 0.7717708853068321\n"
     ]
    }
   ],
   "source": [
    "from sklearn.model_selection import cross_validate\n",
    "\n",
    "model = DecisionTreeClassifier(criterion = 'entropy', max_depth = 79, min_samples_split = 180, min_samples_leaf = 47, max_features = 'sqrt', random_state = 1)\n",
    "score = cross_validate(model, X, y, cv = 5, scoring = 'roc_auc', return_train_score = True)\n",
    "\n",
    "print('roc_auc(train): ' + str(score['train_score'].mean()))\n",
    "print('roc_auc(test): ' + str(score['test_score'].mean()))"
   ]
  },
  {
   "cell_type": "code",
   "execution_count": 51,
   "id": "f63cc900",
   "metadata": {},
   "outputs": [
    {
     "name": "stdout",
     "output_type": "stream",
     "text": [
      "Accuracy (Test Set): 0.82\n",
      "Precision (Test Set): 0.54\n",
      "Recall (Test Set): 0.43\n",
      "F1-Score (Test Set): 0.48\n",
      "AUC (test-proba): 0.79\n",
      "AUC (train-proba): 0.85\n"
     ]
    }
   ],
   "source": [
    "from sklearn.tree import DecisionTreeClassifier\n",
    "dtc_tuned = DecisionTreeClassifier(criterion = 'entropy', max_depth = 79, min_samples_split = 180, min_samples_leaf = 47, max_features = 'sqrt', random_state = 1)\n",
    "dtc_tuned.fit(X_train,y_train)\n",
    "\n",
    "eval_classification(dtc_tuned)"
   ]
  },
  {
   "cell_type": "code",
   "execution_count": 53,
   "id": "1a02369f",
   "metadata": {},
   "outputs": [
    {
     "name": "stdout",
     "output_type": "stream",
     "text": [
      "param value: 1; train: 0.5712416239086925; test: 0.5445428734237504\n",
      "param value: 2; train: 0.7762718129772619; test: 0.6889731272112855\n",
      "param value: 3; train: 0.8056974034293148; test: 0.7581232848362516\n",
      "param value: 4; train: 0.8273896062932506; test: 0.8015300394629411\n",
      "param value: 5; train: 0.7185515180923975; test: 0.6608589710151502\n",
      "param value: 6; train: 0.8286101711207252; test: 0.7937012383198766\n",
      "param value: 7; train: 0.8291037066278615; test: 0.7926331590764764\n",
      "param value: 8; train: 0.8382994427764291; test: 0.8000958932459404\n",
      "param value: 9; train: 0.8123886104960051; test: 0.7628236840016329\n",
      "param value: 10; train: 0.8310417019212006; test: 0.7963951793976232\n",
      "param value: 11; train: 0.8442954041423152; test: 0.799743646806677\n",
      "param value: 12; train: 0.8369901724511399; test: 0.798973594983217\n"
     ]
    },
    {
     "data": {
      "image/png": "[encoded data removed]",
      "text/plain": [
       "<Figure size 432x288 with 1 Axes>"
      ]
     },
     "metadata": {
      "needs_background": "light"
     },
     "output_type": "display_data"
    }
   ],
   "source": [
    "param_values = [int(x) for x in np.linspace(1, 12, 12)]\n",
    "\n",
    "train_scores = []\n",
    "test_scores = []\n",
    "\n",
    "for cdtc in param_values:\n",
    "  model = DecisionTreeClassifier(max_depth = 4, min_samples_split = 155, min_samples_leaf = 62, max_features = cdtc)\n",
    "  model.fit(X_train, y_train)\n",
    "\t\n",
    "  y_pred_train_proba = model.predict_proba(X_train)\n",
    "  train_auc = roc_auc_score(y_train, y_pred_train_proba[:,1])\n",
    "  train_scores.append(train_auc)\n",
    "  \n",
    "  y_pred_proba = model.predict_proba(X_test)\n",
    "  test_auc = roc_auc_score(y_test, y_pred_proba[:,1])\n",
    "  test_scores.append(test_auc)\n",
    "  \n",
    "  print('param value: ' + str(cdtc) + '; train: ' + str(train_auc) + '; test: ' + str(test_auc))\n",
    "\n",
    "plt.plot(param_values, train_scores, label = 'Train')\n",
    "plt.plot(param_values, test_scores, label = 'Test')\n",
    "plt.legend()\n",
    "plt.show()"
   ]
  },
  {
   "cell_type": "markdown",
   "id": "8af42781",
   "metadata": {},
   "source": [
    "."
   ]
  },
  {
   "cell_type": "markdown",
   "id": "ff85adbf",
   "metadata": {},
   "source": [
    "### Random Forest Classifier"
   ]
  },
  {
   "cell_type": "code",
   "execution_count": 54,
   "id": "676677b1",
   "metadata": {},
   "outputs": [
    {
     "name": "stdout",
     "output_type": "stream",
     "text": [
      "Accuracy (Test Set): 0.86\n",
      "Precision (Test Set): 0.74\n",
      "Recall (Test Set): 0.40\n",
      "F1-Score (Test Set): 0.52\n",
      "AUC (test-proba): 0.84\n",
      "AUC (train-proba): 1.00\n"
     ]
    }
   ],
   "source": [
    "from sklearn.ensemble import RandomForestClassifier\n",
    "rf = RandomForestClassifier(random_state=42)\n",
    "rf.fit(X_train,y_train)\n",
    "\n",
    "eval_classification(rf)"
   ]
  },
  {
   "cell_type": "code",
   "execution_count": 55,
   "id": "cc78c27e",
   "metadata": {},
   "outputs": [
    {
     "name": "stdout",
     "output_type": "stream",
     "text": [
      "Accuracy (Test Set): 0.86\n",
      "Precision (Test Set): 0.76\n",
      "Recall (Test Set): 0.40\n",
      "F1-Score (Test Set): 0.53\n",
      "AUC (test-proba): 0.86\n",
      "AUC (train-proba): 0.94\n"
     ]
    }
   ],
   "source": [
    "# Tuning Hyperparameter Random Forest\n",
    "from sklearn.model_selection import RandomizedSearchCV\n",
    "\n",
    "n_estimators = [int(x) for x in np.linspace(1, 200, 50)]\n",
    "criterion = ['gini', 'entropy']\n",
    "max_depth = [int(x) for x in np.linspace(2, 100, 50)]\n",
    "min_samples_split = [int(x) for x in np.linspace(2, 100, 50)]\n",
    "min_samples_leaf = [int(x) for x in np.linspace(2, 150, 50)]\n",
    "random_state = 1\n",
    "hyperparameters = dict(n_estimators=n_estimators, criterion=criterion, max_depth=max_depth, \n",
    "                       min_samples_split=min_samples_split, min_samples_leaf=min_samples_leaf)\n",
    "\n",
    "rf.fit(X_train, y_train)\n",
    "rs_rf = RandomizedSearchCV(rf, hyperparameters, scoring = 'roc_auc', cv = 5)\n",
    "rs_rf.fit(X_train, y_train)\n",
    "eval_classification(rs_rf)"
   ]
  },
  {
   "cell_type": "code",
   "execution_count": 56,
   "id": "f8f873e8",
   "metadata": {},
   "outputs": [
    {
     "name": "stdout",
     "output_type": "stream",
     "text": [
      "{'bootstrap': True, 'ccp_alpha': 0.0, 'class_weight': None, 'criterion': 'gini', 'max_depth': 40, 'max_features': 'sqrt', 'max_leaf_nodes': None, 'max_samples': None, 'min_impurity_decrease': 0.0, 'min_samples_leaf': 8, 'min_samples_split': 36, 'min_weight_fraction_leaf': 0.0, 'n_estimators': 45, 'n_jobs': None, 'oob_score': False, 'random_state': 42, 'verbose': 0, 'warm_start': False}\n"
     ]
    }
   ],
   "source": [
    "show_best_hyperparameter(rs_rf)"
   ]
  },
  {
   "cell_type": "code",
   "execution_count": 57,
   "id": "25ba403b",
   "metadata": {},
   "outputs": [
    {
     "name": "stdout",
     "output_type": "stream",
     "text": [
      "roc_auc(train): 0.9127702755580032\n",
      "roc_auc(test): 0.8595490594270793\n"
     ]
    }
   ],
   "source": [
    "from sklearn.model_selection import cross_validate\n",
    "\n",
    "model = RandomForestClassifier(n_estimators = 74, max_depth = 70, min_samples_split = 78, min_samples_leaf = 2, random_state = 42)\n",
    "score = cross_validate(model, X, y, cv = 5, scoring = 'roc_auc', return_train_score = True)\n",
    "\n",
    "print('roc_auc(train): ' + str(score['train_score'].mean()))\n",
    "print('roc_auc(test): ' + str(score['test_score'].mean()))"
   ]
  },
  {
   "cell_type": "code",
   "execution_count": 58,
   "id": "9ec16b8b",
   "metadata": {},
   "outputs": [
    {
     "name": "stdout",
     "output_type": "stream",
     "text": [
      "Accuracy (Test Set): 0.86\n",
      "Precision (Test Set): 0.78\n",
      "Recall (Test Set): 0.39\n",
      "F1-Score (Test Set): 0.52\n",
      "AUC (test-proba): 0.86\n",
      "AUC (train-proba): 0.93\n"
     ]
    }
   ],
   "source": [
    "from sklearn.ensemble import RandomForestClassifier\n",
    "rf_tuned = RandomForestClassifier(n_estimators = 74, max_depth = 70, min_samples_split = 78, min_samples_leaf = 2, random_state = 42)\n",
    "rf_tuned.fit(X_train,y_train)\n",
    "\n",
    "eval_classification(rf_tuned)"
   ]
  },
  {
   "cell_type": "code",
   "execution_count": 60,
   "id": "09a26ea6",
   "metadata": {},
   "outputs": [
    {
     "name": "stdout",
     "output_type": "stream",
     "text": [
      "param value: 1; train: 0.921836326643245; test: 0.860048308083099\n",
      "param value: 3; train: 0.9198698368483376; test: 0.8596095947110587\n",
      "param value: 5; train: 0.9182251436153086; test: 0.8587059443890048\n",
      "param value: 7; train: 0.9172067924179251; test: 0.8561828109407601\n",
      "param value: 9; train: 0.916413846488541; test: 0.855168596344008\n",
      "param value: 11; train: 0.9166548918480957; test: 0.8572466377120567\n",
      "param value: 13; train: 0.9144037926617898; test: 0.8574911548580241\n",
      "param value: 15; train: 0.9135733239376433; test: 0.854495288260909\n",
      "param value: 17; train: 0.9131877587621263; test: 0.8555817948834256\n",
      "param value: 19; train: 0.9121042293291186; test: 0.8553592488433276\n",
      "param value: 21; train: 0.9114828545328509; test: 0.8539474281048717\n",
      "param value: 23; train: 0.9111710595745854; test: 0.8529721945024041\n",
      "param value: 25; train: 0.91144378786639; test: 0.8534626462850403\n",
      "param value: 27; train: 0.9089121739049302; test: 0.8517354338655538\n",
      "param value: 29; train: 0.9089581544316065; test: 0.8518778916810306\n",
      "param value: 31; train: 0.9052012433402914; test: 0.8503611766306812\n",
      "param value: 33; train: 0.9079923619968329; test: 0.8538389900662252\n",
      "param value: 35; train: 0.9060748062222863; test: 0.8520146795337024\n",
      "param value: 37; train: 0.9057242130969858; test: 0.8530203891862469\n",
      "param value: 39; train: 0.9045693970664156; test: 0.8506949956908283\n",
      "param value: 41; train: 0.9037206703813114; test: 0.8523577122834074\n",
      "param value: 43; train: 0.9033207404865116; test: 0.8513590900843689\n",
      "param value: 45; train: 0.901527298571563; test: 0.8509643189240679\n",
      "param value: 47; train: 0.9009799624919728; test: 0.851917581420666\n",
      "param value: 49; train: 0.9002896504681188; test: 0.850733976685113\n",
      "param value: 51; train: 0.8994881796819637; test: 0.8503874002086547\n",
      "param value: 53; train: 0.8976554697259849; test: 0.8488834425746168\n",
      "param value: 55; train: 0.8986111934322893; test: 0.8502265150140615\n",
      "param value: 57; train: 0.8966345006591996; test: 0.8488536752698903\n",
      "param value: 59; train: 0.8955602344563836; test: 0.8493533407420848\n",
      "param value: 61; train: 0.8955531863464551; test: 0.8496042365962079\n",
      "param value: 63; train: 0.8952921377796749; test: 0.8490535414587679\n",
      "param value: 65; train: 0.8910453494859008; test: 0.8471548126644288\n",
      "param value: 67; train: 0.8928224129358727; test: 0.8472356096344007\n",
      "param value: 69; train: 0.8913385508589263; test: 0.8464595334754604\n",
      "param value: 71; train: 0.8909598995436249; test: 0.8483412523813844\n",
      "param value: 73; train: 0.8902493158131192; test: 0.8476410119749614\n",
      "param value: 75; train: 0.889868382252698; test: 0.8455417082463939\n",
      "param value: 77; train: 0.8848826835389917; test: 0.8414883935861381\n",
      "param value: 79; train: 0.8894506642709358; test: 0.847532573936315\n",
      "param value: 81; train: 0.8848839589112644; test: 0.8440597217182255\n",
      "param value: 83; train: 0.8864820339314807; test: 0.8455941554023405\n",
      "param value: 85; train: 0.8852535483709435; test: 0.8443410936224258\n",
      "param value: 87; train: 0.884527123174313; test: 0.8458060702621791\n",
      "param value: 89; train: 0.8819869843560824; test: 0.8413508969881157\n",
      "param value: 91; train: 0.8884249964641983; test: 0.8484305542955639\n",
      "param value: 93; train: 0.8835543497544672; test: 0.8433920835979317\n",
      "param value: 95; train: 0.8837819701427296; test: 0.8450817325138347\n",
      "param value: 97; train: 0.8801974021203802; test: 0.840295575161027\n",
      "param value: 99; train: 0.8816066549193694; test: 0.8418342613172457\n",
      "param value: 101; train: 0.8813399007397897; test: 0.8425004819468384\n",
      "param value: 103; train: 0.8771677552864012; test: 0.8392005635943027\n",
      "param value: 105; train: 0.878886957110103; test: 0.8397413362968339\n",
      "param value: 107; train: 0.8758547930940067; test: 0.8391700875442257\n",
      "param value: 109; train: 0.8798432178152592; test: 0.8441242175451329\n",
      "param value: 111; train: 0.8789090411878789; test: 0.8418236301369864\n",
      "param value: 113; train: 0.8773992353539102; test: 0.8423622766034655\n",
      "param value: 115; train: 0.8798829892927127; test: 0.8418803297650368\n",
      "param value: 117; train: 0.8772066205782928; test: 0.8416436088179262\n",
      "param value: 119; train: 0.8756085791205046; test: 0.8415890354259277\n",
      "param value: 121; train: 0.8755892807242718; test: 0.8378475687199493\n",
      "param value: 123; train: 0.8724824403053616; test: 0.8340550723487254\n",
      "param value: 125; train: 0.8795706908980239; test: 0.8447096412047537\n",
      "param value: 127; train: 0.8723928957468415; test: 0.8369992005352446\n",
      "param value: 129; train: 0.8785918091162402; test: 0.8414246065045815\n",
      "param value: 131; train: 0.8751160504862155; test: 0.8414650049895672\n",
      "param value: 133; train: 0.8748555053558588; test: 0.8395067415857753\n",
      "param value: 135; train: 0.8748674535803089; test: 0.8382728159303277\n",
      "param value: 137; train: 0.8674807658758172; test: 0.8303121881520457\n",
      "param value: 139; train: 0.8734678331982222; test: 0.8374028310124286\n",
      "param value: 141; train: 0.8746137887477394; test: 0.8391991461036017\n",
      "param value: 143; train: 0.8720967408801317; test: 0.8399050564728295\n",
      "param value: 145; train: 0.8705319933511486; test: 0.8360452292932958\n",
      "param value: 147; train: 0.8750302984820855; test: 0.8429250204118661\n",
      "param value: 149; train: 0.8729976235787067; test: 0.8406138018234599\n",
      "param value: 151; train: 0.8692116474245434; test: 0.8349934511929602\n",
      "param value: 153; train: 0.8698672558976068; test: 0.8345419804046086\n",
      "param value: 155; train: 0.8676373681659428; test: 0.8340104213916356\n",
      "param value: 157; train: 0.8684949553321; test: 0.8338268563458222\n",
      "param value: 159; train: 0.8695877479952994; test: 0.83626352286129\n",
      "param value: 161; train: 0.8675634301365499; test: 0.833783622879434\n",
      "param value: 163; train: 0.8728926738656285; test: 0.840627267985122\n",
      "param value: 165; train: 0.8706275120218938; test: 0.8376611686927333\n",
      "param value: 167; train: 0.8661238369024403; test: 0.8317296788533067\n",
      "param value: 169; train: 0.8626724110328832; test: 0.8294475188242766\n",
      "param value: 171; train: 0.8664035797417451; test: 0.8296856572620883\n",
      "param value: 173; train: 0.8663858923420674; test: 0.8333909779551845\n",
      "param value: 175; train: 0.8714306609294604; test: 0.8384287399074661\n",
      "param value: 177; train: 0.866853349842468; test: 0.8333654631225619\n",
      "param value: 179; train: 0.8724575034211862; test: 0.839491857933412\n",
      "param value: 181; train: 0.8675264443406396; test: 0.8341688259775015\n",
      "param value: 183; train: 0.865384523733369; test: 0.8337056608908645\n",
      "param value: 185; train: 0.8630847254637002; test: 0.8298132314252018\n",
      "param value: 187; train: 0.8705277644851916; test: 0.8370346378027762\n",
      "param value: 189; train: 0.8656708112461791; test: 0.8366100993377483\n",
      "param value: 191; train: 0.8680612616344997; test: 0.8369857343735825\n",
      "param value: 193; train: 0.8648153720754287; test: 0.8312697031207475\n",
      "param value: 195; train: 0.8638028607405578; test: 0.8318990689921074\n",
      "param value: 197; train: 0.8646185619962825; test: 0.833016051664701\n",
      "param value: 200; train: 0.8599096190657682; test: 0.8242687165472196\n"
     ]
    },
    {
     "data": {
      "image/png": "[encoded data removed]",
      "text/plain": [
       "<Figure size 432x288 with 1 Axes>"
      ]
     },
     "metadata": {
      "needs_background": "light"
     },
     "output_type": "display_data"
    }
   ],
   "source": [
    "param_values = [int(x) for x in np.linspace(1, 200, 100)]\n",
    "\n",
    "train_scores = []\n",
    "test_scores = []\n",
    "\n",
    "for crf in param_values:\n",
    "  model = RandomForestClassifier(n_estimators = 118, max_depth = 28, min_samples_split = 98, min_samples_leaf = crf)\n",
    "  model.fit(X_train, y_train)\n",
    "\t\n",
    "  y_pred_train_proba = model.predict_proba(X_train)\n",
    "  train_auc = roc_auc_score(y_train, y_pred_train_proba[:,1])\n",
    "  train_scores.append(train_auc)\n",
    "  \n",
    "  y_pred_proba = model.predict_proba(X_test)\n",
    "  test_auc = roc_auc_score(y_test, y_pred_proba[:,1])\n",
    "  test_scores.append(test_auc)\n",
    "  \n",
    "  print('param value: ' + str(crf) + '; train: ' + str(train_auc) + '; test: ' + str(test_auc))\n",
    "\n",
    "plt.plot(param_values, train_scores, label = 'Train')\n",
    "plt.plot(param_values, test_scores, label = 'Test')\n",
    "plt.show()"
   ]
  },
  {
   "cell_type": "markdown",
   "id": "320fff74",
   "metadata": {},
   "source": [
    "n_estimator 118 max_depth 28 min_samples_split 98 min_samples_leaf 164\n",
    "\n",
    "Setelah dilakukan Hyperparameter Tuning, didapatkan hasil bahwa nilai yang paling tepat untuk parameter n_estimators adalah 118, max_depth = 27 dan min_sample_leaf = 135."
   ]
  },
  {
   "cell_type": "markdown",
   "id": "90a2e2b3",
   "metadata": {},
   "source": [
    "."
   ]
  },
  {
   "cell_type": "markdown",
   "id": "d7e55d21",
   "metadata": {},
   "source": [
    "### AdaBoost"
   ]
  },
  {
   "cell_type": "code",
   "execution_count": 61,
   "id": "d336f572",
   "metadata": {},
   "outputs": [
    {
     "name": "stdout",
     "output_type": "stream",
     "text": [
      "Accuracy (Test Set): 0.84\n",
      "Precision (Test Set): 0.65\n",
      "Recall (Test Set): 0.45\n",
      "F1-Score (Test Set): 0.53\n",
      "AUC (test-proba): 0.84\n",
      "AUC (train-proba): 0.88\n"
     ]
    }
   ],
   "source": [
    "from sklearn.ensemble import AdaBoostClassifier\n",
    "ab = AdaBoostClassifier(random_state=42)\n",
    "ab.fit(X_train,y_train)\n",
    "\n",
    "eval_classification(ab)"
   ]
  },
  {
   "cell_type": "code",
   "execution_count": 62,
   "id": "545af67b",
   "metadata": {},
   "outputs": [
    {
     "name": "stdout",
     "output_type": "stream",
     "text": [
      "Accuracy (Test Set): 0.84\n",
      "Precision (Test Set): 0.69\n",
      "Recall (Test Set): 0.37\n",
      "F1-Score (Test Set): 0.48\n",
      "AUC (test-proba): 0.84\n",
      "AUC (train-proba): 0.86\n"
     ]
    }
   ],
   "source": [
    "from sklearn.model_selection import RandomizedSearchCV, GridSearchCV\n",
    "\n",
    "n_estimators = [int(x) for x in np.linspace(50, 200, 50)]\n",
    "learning_rate = [float(x) for x in np.linspace(0.001, 0.1, 50)]\n",
    "algorithm = ['SAMME', 'SAMME.R']\n",
    "hyperparameters = dict(n_estimators = n_estimators, learning_rate = learning_rate,  algorithm = algorithm\n",
    "                       )\n",
    "\n",
    "ab = AdaBoostClassifier(random_state=42)\n",
    "ab.fit(X_train, y_train)\n",
    "rs_ab = RandomizedSearchCV(ab, hyperparameters, scoring = 'roc_auc', cv = 5)\n",
    "rs_ab.fit(X_train, y_train)\n",
    "eval_classification(rs_ab)"
   ]
  },
  {
   "cell_type": "code",
   "execution_count": 63,
   "id": "6e5bc562",
   "metadata": {},
   "outputs": [
    {
     "name": "stdout",
     "output_type": "stream",
     "text": [
      "{'algorithm': 'SAMME.R', 'base_estimator': None, 'learning_rate': 0.09191836734693878, 'n_estimators': 71, 'random_state': 42}\n"
     ]
    }
   ],
   "source": [
    "show_best_hyperparameter(rs_ab)"
   ]
  },
  {
   "cell_type": "code",
   "execution_count": 64,
   "id": "2f1d7e52",
   "metadata": {},
   "outputs": [
    {
     "name": "stdout",
     "output_type": "stream",
     "text": [
      "roc_auc(train): 0.8484399289382925\n",
      "roc_auc(test): 0.8444039488715214\n"
     ]
    }
   ],
   "source": [
    "from sklearn.model_selection import cross_validate\n",
    "\n",
    "model = AdaBoostClassifier(n_estimators = 108, learning_rate =  0.08181632653061224, algorithm = 'SAMME.R')\n",
    "score = cross_validate(model, X, y, cv = 5, scoring = 'roc_auc', return_train_score = True)\n",
    "\n",
    "print('roc_auc(train): ' + str(score['train_score'].mean()))\n",
    "print('roc_auc(test): ' + str(score['test_score'].mean()))"
   ]
  },
  {
   "cell_type": "code",
   "execution_count": 65,
   "id": "3c38b422",
   "metadata": {},
   "outputs": [
    {
     "name": "stdout",
     "output_type": "stream",
     "text": [
      "Accuracy (Test Set): 0.85\n",
      "Precision (Test Set): 0.69\n",
      "Recall (Test Set): 0.38\n",
      "F1-Score (Test Set): 0.49\n",
      "AUC (test-proba): 0.84\n",
      "AUC (train-proba): 0.86\n"
     ]
    }
   ],
   "source": [
    "from sklearn.ensemble import AdaBoostClassifier\n",
    "ab_tuned = AdaBoostClassifier(n_estimators = 108, learning_rate =  0.08181632653061224, algorithm = 'SAMME.R', random_state=42)\n",
    "ab_tuned.fit(X_train,y_train)\n",
    "\n",
    "eval_classification(ab_tuned)"
   ]
  },
  {
   "cell_type": "code",
   "execution_count": 66,
   "id": "17a301fd",
   "metadata": {},
   "outputs": [
    {
     "name": "stdout",
     "output_type": "stream",
     "text": [
      "param value: 0.001; train: 0.7318358628104867; test: 0.6631003781865191\n",
      "param value: 0.0030204081632653063; train: 0.7418713309133927; test: 0.6771891726390274\n",
      "param value: 0.0050408163265306125; train: 0.762074872273145; test: 0.7046296663793885\n",
      "param value: 0.007061224489795919; train: 0.8016768259018174; test: 0.7651756554477003\n",
      "param value: 0.009081632653061226; train: 0.8083879354884485; test: 0.7815487361652906\n",
      "param value: 0.011102040816326531; train: 0.8240165151311845; test: 0.7975766578971242\n",
      "param value: 0.013122448979591837; train: 0.8287766743271789; test: 0.8012933185158305\n",
      "param value: 0.015142857142857145; train: 0.8357206064784481; test: 0.8110938492243491\n",
      "param value: 0.01716326530612245; train: 0.8407913523852917; test: 0.8153243502222625\n",
      "param value: 0.019183673469387756; train: 0.8434239221308704; test: 0.8170111641567631\n",
      "param value: 0.02120408163265306; train: 0.8454287402188176; test: 0.8186157636305906\n",
      "param value: 0.02322448979591837; train: 0.8471112918708912; test: 0.8202997425836888\n",
      "param value: 0.025244897959183676; train: 0.8489829342436179; test: 0.8228682357343737\n",
      "param value: 0.02726530612244898; train: 0.8494293145390897; test: 0.8230872380477186\n",
      "param value: 0.02928571428571429; train: 0.8506681708899502; test: 0.8255005159666154\n",
      "param value: 0.031306122448979595; train: 0.8530027398352662; test: 0.8277688554613083\n",
      "param value: 0.0333265306122449; train: 0.8537302725920284; test: 0.8283018319649823\n",
      "param value: 0.035346938775510206; train: 0.8541777268852032; test: 0.8291913073800237\n",
      "param value: 0.03736734693877551; train: 0.8558246016760674; test: 0.8305871813480905\n",
      "param value: 0.03938775510204082; train: 0.8566073446272695; test: 0.8313136453324865\n",
      "param value: 0.04140816326530612; train: 0.8579894454218198; test: 0.8332821855438629\n",
      "param value: 0.043428571428571434; train: 0.8581833691321381; test: 0.8341514617164112\n",
      "param value: 0.04544897959183674; train: 0.8589719183834241; test: 0.8352262740406422\n",
      "param value: 0.047469387755102045; train: 0.8595774517135668; test: 0.8355296170507122\n",
      "param value: 0.04948979591836735; train: 0.8597180782878544; test: 0.835800357774653\n",
      "param value: 0.051510204081632656; train: 0.8602398397971326; test: 0.8367628339608093\n",
      "param value: 0.05353061224489796; train: 0.8611094758750246; test: 0.837839418148417\n",
      "param value: 0.05555102040816327; train: 0.8613247788521261; test: 0.8382597041413409\n",
      "param value: 0.05757142857142858; train: 0.8616218734668264; test: 0.8386147855620067\n",
      "param value: 0.059591836734693884; train: 0.8620152922505495; test: 0.8390832662387735\n",
      "param value: 0.06161224489795919; train: 0.8623557159600959; test: 0.8392505301415223\n",
      "param value: 0.0636326530612245; train: 0.8626881518117233; test: 0.8397395644334573\n",
      "param value: 0.0656530612244898; train: 0.8627288965995958; test: 0.839542533225982\n",
      "param value: 0.0676734693877551; train: 0.8629691028984445; test: 0.8397119233647827\n",
      "param value: 0.06969387755102041; train: 0.8631010703662487; test: 0.8397778366823914\n",
      "param value: 0.07171428571428572; train: 0.8635838994587791; test: 0.839772875464937\n",
      "param value: 0.07373469387755102; train: 0.8638994198465779; test: 0.8403972801188424\n",
      "param value: 0.07575510204081633; train: 0.8642358831895932; test: 0.8408338672548309\n",
      "param value: 0.07777551020408163; train: 0.8643673136585456; test: 0.8408161486210651\n",
      "param value: 0.07979591836734694; train: 0.8645496583311244; test: 0.8404943782318788\n",
      "param value: 0.08181632653061224; train: 0.864697836451764; test: 0.8400762184750068\n",
      "param value: 0.08383673469387756; train: 0.8651050158310617; test: 0.8400712572575524\n",
      "param value: 0.08585714285714287; train: 0.8655175316364483; test: 0.8403909014106867\n",
      "param value: 0.08787755102040817; train: 0.8657428697795908; test: 0.8403295949378573\n",
      "param value: 0.08989795918367348; train: 0.8658877252198356; test: 0.8402672253470017\n",
      "param value: 0.09191836734693878; train: 0.8660821859290058; test: 0.839876352286129\n",
      "param value: 0.09393877551020409; train: 0.866161728883913; test: 0.8397898853533521\n",
      "param value: 0.0959591836734694; train: 0.8663014828350667; test: 0.8402243462532886\n",
      "param value: 0.0979795918367347; train: 0.8665315197181616; test: 0.8412215509616258\n",
      "param value: 0.1; train: 0.86678387561603; test: 0.8407505896761317\n"
     ]
    },
    {
     "data": {
      "image/png": "[encoded data removed]",
      "text/plain": [
       "<Figure size 432x288 with 1 Axes>"
      ]
     },
     "metadata": {
      "needs_background": "light"
     },
     "output_type": "display_data"
    }
   ],
   "source": [
    "param_values_adaboost = [float(x) for x in np.linspace(0.001, 0.1, 50)]\n",
    "\n",
    "train_scores = []\n",
    "test_scores = []\n",
    "\n",
    "for cab in param_values_adaboost:\n",
    "  model = AdaBoostClassifier(n_estimators = 129, learning_rate = cab)\n",
    "  model.fit(X_train, y_train)\n",
    "\t\n",
    "  y_pred_train_proba = model.predict_proba(X_train)\n",
    "  train_auc = roc_auc_score(y_train, y_pred_train_proba[:,1])\n",
    "  train_scores.append(train_auc)\n",
    "  \n",
    "  y_pred_proba = model.predict_proba(X_test)\n",
    "  test_auc = roc_auc_score(y_test, y_pred_proba[:,1])\n",
    "  test_scores.append(test_auc)\n",
    "  \n",
    "  print('param value: ' + str(cab) + '; train: ' + str(train_auc) + '; test: ' + str(test_auc))\n",
    "\n",
    "plt.plot(param_values_adaboost, train_scores, label = 'Train')\n",
    "plt.plot(param_values_adaboost, test_scores, label = 'Test')\n",
    "plt.show()"
   ]
  },
  {
   "cell_type": "markdown",
   "id": "0ff6ea83",
   "metadata": {},
   "source": []
  },
  {
   "cell_type": "markdown",
   "id": "8141cfa1",
   "metadata": {},
   "source": [
    "### XGBoost"
   ]
  },
  {
   "cell_type": "code",
   "execution_count": 67,
   "id": "c9dcece7",
   "metadata": {},
   "outputs": [
    {
     "name": "stdout",
     "output_type": "stream",
     "text": [
      "Accuracy (Test Set): 0.78\n",
      "Precision (Test Set): 0.46\n",
      "Recall (Test Set): 0.70\n",
      "F1-Score (Test Set): 0.56\n",
      "AUC (test-proba): 0.83\n",
      "AUC (train-proba): 0.99\n"
     ]
    }
   ],
   "source": [
    "from xgboost import XGBClassifier, XGBRegressor\n",
    "xg = XGBClassifier(random_state=42)\n",
    "xg.fit(X_train, y_train)\n",
    "\n",
    "eval_classification(xg)"
   ]
  },
  {
   "cell_type": "code",
   "execution_count": 74,
   "id": "d34b933a",
   "metadata": {},
   "outputs": [
    {
     "ename": "OverflowError",
     "evalue": "Python int too large to convert to C long",
     "output_type": "error",
     "traceback": [
      "\u001b[1;31m---------------------------------------------------------------------------\u001b[0m",
      "\u001b[1;31mOverflowError\u001b[0m                             Traceback (most recent call last)",
      "\u001b[1;32m~\\AppData\\Local\\Temp/ipykernel_5236/4292756804.py\u001b[0m in \u001b[0;36m<module>\u001b[1;34m\u001b[0m\n\u001b[0;32m     14\u001b[0m \u001b[0mxg\u001b[0m\u001b[1;33m.\u001b[0m\u001b[0mfit\u001b[0m\u001b[1;33m(\u001b[0m\u001b[0mX_train\u001b[0m\u001b[1;33m,\u001b[0m \u001b[0my_train\u001b[0m\u001b[1;33m)\u001b[0m\u001b[1;33m\u001b[0m\u001b[1;33m\u001b[0m\u001b[0m\n\u001b[0;32m     15\u001b[0m \u001b[0mrs_xg\u001b[0m \u001b[1;33m=\u001b[0m \u001b[0mRandomizedSearchCV\u001b[0m\u001b[1;33m(\u001b[0m\u001b[0mxg\u001b[0m\u001b[1;33m,\u001b[0m \u001b[0mhyperparameters\u001b[0m\u001b[1;33m,\u001b[0m \u001b[0mscoring\u001b[0m \u001b[1;33m=\u001b[0m \u001b[1;34m'roc_auc'\u001b[0m\u001b[1;33m,\u001b[0m \u001b[0mcv\u001b[0m \u001b[1;33m=\u001b[0m \u001b[1;36m5\u001b[0m\u001b[1;33m)\u001b[0m\u001b[1;33m\u001b[0m\u001b[1;33m\u001b[0m\u001b[0m\n\u001b[1;32m---> 16\u001b[1;33m \u001b[0mrs_xg\u001b[0m\u001b[1;33m.\u001b[0m\u001b[0mfit\u001b[0m\u001b[1;33m(\u001b[0m\u001b[0mX_train\u001b[0m\u001b[1;33m,\u001b[0m \u001b[0my_train\u001b[0m\u001b[1;33m)\u001b[0m\u001b[1;33m\u001b[0m\u001b[1;33m\u001b[0m\u001b[0m\n\u001b[0m\u001b[0;32m     17\u001b[0m \u001b[0meval_classification\u001b[0m\u001b[1;33m(\u001b[0m\u001b[0mrs_xg\u001b[0m\u001b[1;33m)\u001b[0m\u001b[1;33m\u001b[0m\u001b[1;33m\u001b[0m\u001b[0m\n",
      "\u001b[1;32m~\\anaconda3\\lib\\site-packages\\sklearn\\model_selection\\_search.py\u001b[0m in \u001b[0;36mfit\u001b[1;34m(self, X, y, groups, **fit_params)\u001b[0m\n\u001b[0;32m    873\u001b[0m                 \u001b[1;32mreturn\u001b[0m \u001b[0mresults\u001b[0m\u001b[1;33m\u001b[0m\u001b[1;33m\u001b[0m\u001b[0m\n\u001b[0;32m    874\u001b[0m \u001b[1;33m\u001b[0m\u001b[0m\n\u001b[1;32m--> 875\u001b[1;33m             \u001b[0mself\u001b[0m\u001b[1;33m.\u001b[0m\u001b[0m_run_search\u001b[0m\u001b[1;33m(\u001b[0m\u001b[0mevaluate_candidates\u001b[0m\u001b[1;33m)\u001b[0m\u001b[1;33m\u001b[0m\u001b[1;33m\u001b[0m\u001b[0m\n\u001b[0m\u001b[0;32m    876\u001b[0m \u001b[1;33m\u001b[0m\u001b[0m\n\u001b[0;32m    877\u001b[0m             \u001b[1;31m# multimetric is determined here because in the case of a callable\u001b[0m\u001b[1;33m\u001b[0m\u001b[1;33m\u001b[0m\u001b[0m\n",
      "\u001b[1;32m~\\anaconda3\\lib\\site-packages\\sklearn\\model_selection\\_search.py\u001b[0m in \u001b[0;36m_run_search\u001b[1;34m(self, evaluate_candidates)\u001b[0m\n\u001b[0;32m   1751\u001b[0m     \u001b[1;32mdef\u001b[0m \u001b[0m_run_search\u001b[0m\u001b[1;33m(\u001b[0m\u001b[0mself\u001b[0m\u001b[1;33m,\u001b[0m \u001b[0mevaluate_candidates\u001b[0m\u001b[1;33m)\u001b[0m\u001b[1;33m:\u001b[0m\u001b[1;33m\u001b[0m\u001b[1;33m\u001b[0m\u001b[0m\n\u001b[0;32m   1752\u001b[0m         \u001b[1;34m\"\"\"Search n_iter candidates from param_distributions\"\"\"\u001b[0m\u001b[1;33m\u001b[0m\u001b[1;33m\u001b[0m\u001b[0m\n\u001b[1;32m-> 1753\u001b[1;33m         evaluate_candidates(\n\u001b[0m\u001b[0;32m   1754\u001b[0m             ParameterSampler(\n\u001b[0;32m   1755\u001b[0m                 \u001b[0mself\u001b[0m\u001b[1;33m.\u001b[0m\u001b[0mparam_distributions\u001b[0m\u001b[1;33m,\u001b[0m \u001b[0mself\u001b[0m\u001b[1;33m.\u001b[0m\u001b[0mn_iter\u001b[0m\u001b[1;33m,\u001b[0m \u001b[0mrandom_state\u001b[0m\u001b[1;33m=\u001b[0m\u001b[0mself\u001b[0m\u001b[1;33m.\u001b[0m\u001b[0mrandom_state\u001b[0m\u001b[1;33m\u001b[0m\u001b[1;33m\u001b[0m\u001b[0m\n",
      "\u001b[1;32m~\\anaconda3\\lib\\site-packages\\sklearn\\model_selection\\_search.py\u001b[0m in \u001b[0;36mevaluate_candidates\u001b[1;34m(candidate_params, cv, more_results)\u001b[0m\n\u001b[0;32m    809\u001b[0m             \u001b[1;32mdef\u001b[0m \u001b[0mevaluate_candidates\u001b[0m\u001b[1;33m(\u001b[0m\u001b[0mcandidate_params\u001b[0m\u001b[1;33m,\u001b[0m \u001b[0mcv\u001b[0m\u001b[1;33m=\u001b[0m\u001b[1;32mNone\u001b[0m\u001b[1;33m,\u001b[0m \u001b[0mmore_results\u001b[0m\u001b[1;33m=\u001b[0m\u001b[1;32mNone\u001b[0m\u001b[1;33m)\u001b[0m\u001b[1;33m:\u001b[0m\u001b[1;33m\u001b[0m\u001b[1;33m\u001b[0m\u001b[0m\n\u001b[0;32m    810\u001b[0m                 \u001b[0mcv\u001b[0m \u001b[1;33m=\u001b[0m \u001b[0mcv\u001b[0m \u001b[1;32mor\u001b[0m \u001b[0mcv_orig\u001b[0m\u001b[1;33m\u001b[0m\u001b[1;33m\u001b[0m\u001b[0m\n\u001b[1;32m--> 811\u001b[1;33m                 \u001b[0mcandidate_params\u001b[0m \u001b[1;33m=\u001b[0m \u001b[0mlist\u001b[0m\u001b[1;33m(\u001b[0m\u001b[0mcandidate_params\u001b[0m\u001b[1;33m)\u001b[0m\u001b[1;33m\u001b[0m\u001b[1;33m\u001b[0m\u001b[0m\n\u001b[0m\u001b[0;32m    812\u001b[0m                 \u001b[0mn_candidates\u001b[0m \u001b[1;33m=\u001b[0m \u001b[0mlen\u001b[0m\u001b[1;33m(\u001b[0m\u001b[0mcandidate_params\u001b[0m\u001b[1;33m)\u001b[0m\u001b[1;33m\u001b[0m\u001b[1;33m\u001b[0m\u001b[0m\n\u001b[0;32m    813\u001b[0m \u001b[1;33m\u001b[0m\u001b[0m\n",
      "\u001b[1;32m~\\anaconda3\\lib\\site-packages\\sklearn\\model_selection\\_search.py\u001b[0m in \u001b[0;36m__iter__\u001b[1;34m(self)\u001b[0m\n\u001b[0;32m    311\u001b[0m                 )\n\u001b[0;32m    312\u001b[0m                 \u001b[0mn_iter\u001b[0m \u001b[1;33m=\u001b[0m \u001b[0mgrid_size\u001b[0m\u001b[1;33m\u001b[0m\u001b[1;33m\u001b[0m\u001b[0m\n\u001b[1;32m--> 313\u001b[1;33m             \u001b[1;32mfor\u001b[0m \u001b[0mi\u001b[0m \u001b[1;32min\u001b[0m \u001b[0msample_without_replacement\u001b[0m\u001b[1;33m(\u001b[0m\u001b[0mgrid_size\u001b[0m\u001b[1;33m,\u001b[0m \u001b[0mn_iter\u001b[0m\u001b[1;33m,\u001b[0m \u001b[0mrandom_state\u001b[0m\u001b[1;33m=\u001b[0m\u001b[0mrng\u001b[0m\u001b[1;33m)\u001b[0m\u001b[1;33m:\u001b[0m\u001b[1;33m\u001b[0m\u001b[1;33m\u001b[0m\u001b[0m\n\u001b[0m\u001b[0;32m    314\u001b[0m                 \u001b[1;32myield\u001b[0m \u001b[0mparam_grid\u001b[0m\u001b[1;33m[\u001b[0m\u001b[0mi\u001b[0m\u001b[1;33m]\u001b[0m\u001b[1;33m\u001b[0m\u001b[1;33m\u001b[0m\u001b[0m\n\u001b[0;32m    315\u001b[0m \u001b[1;33m\u001b[0m\u001b[0m\n",
      "\u001b[1;32msklearn\\utils\\_random.pyx\u001b[0m in \u001b[0;36msklearn.utils._random.sample_without_replacement\u001b[1;34m()\u001b[0m\n",
      "\u001b[1;31mOverflowError\u001b[0m: Python int too large to convert to C long"
     ]
    }
   ],
   "source": [
    "from sklearn.model_selection import RandomizedSearchCV, GridSearchCV\n",
    "import numpy as np\n",
    "\n",
    "hyperparameters = {\n",
    "                    'max_depth' : [int(x) for x in np.linspace(1, 15, 15)],\n",
    "                    'min_child_weight' : [int(x) for x in np.linspace(1, 100, 100)],\n",
    "                    'min_split_loss' : [float(x) for x in np.linspace(0, 1, 100)],\n",
    "                    'tree_method' : ['auto', 'exact', 'approx', 'hist'],\n",
    "                    'colsample_bytree' : [float(x) for x in np.linspace(0, 1, 100)],\n",
    "                    'learning_rate' : [float(x) for x in np.linspace(0, 0.1, 100)],\n",
    "                    }\n",
    "\n",
    "xg = XGBClassifier(random_state=42)\n",
    "xg.fit(X_train, y_train)\n",
    "rs_xg = RandomizedSearchCV(xg, hyperparameters, scoring = 'roc_auc', cv = 5)\n",
    "rs_xg.fit(X_train, y_train)\n",
    "eval_classification(rs_xg)"
   ]
  },
  {
   "cell_type": "code",
   "execution_count": 75,
   "id": "fb1f18ef",
   "metadata": {},
   "outputs": [
    {
     "name": "stdout",
     "output_type": "stream",
     "text": [
      "Accuracy (Test Set): 0.84\n",
      "Precision (Test Set): 0.60\n",
      "Recall (Test Set): 0.60\n",
      "F1-Score (Test Set): 0.60\n",
      "AUC (test-proba): 0.85\n",
      "AUC (train-proba): 0.96\n"
     ]
    }
   ],
   "source": [
    "from sklearn.model_selection import RandomizedSearchCV\n",
    "import numpy as np\n",
    "\n",
    "# Reduce the number of values searched for each hyperparameter\n",
    "hyperparameters = {\n",
    "                    'max_depth' : [int(x) for x in np.linspace(1, 15, 3)],\n",
    "                    'min_child_weight' : [int(x) for x in np.linspace(1, 100, 10)],\n",
    "                    'min_split_loss' : [float(x) for x in np.linspace(0, 1, 10)],\n",
    "                    'tree_method' : ['auto', 'exact', 'approx', 'hist'],\n",
    "                    'colsample_bytree' : [float(x) for x in np.linspace(0, 1, 10)],\n",
    "                    'learning_rate' : [float(x) for x in np.linspace(0, 0.1, 10)],\n",
    "                    }\n",
    "\n",
    "xg = XGBClassifier(random_state=42)\n",
    "xg.fit(X_train, y_train)\n",
    "rs_xg = RandomizedSearchCV(xg, hyperparameters, scoring = 'roc_auc', cv = 5)\n",
    "rs_xg.fit(X_train, y_train)\n",
    "eval_classification(rs_xg)\n"
   ]
  },
  {
   "cell_type": "code",
   "execution_count": 76,
   "id": "a81d049a",
   "metadata": {},
   "outputs": [
    {
     "name": "stdout",
     "output_type": "stream",
     "text": [
      "{'objective': 'binary:logistic', 'use_label_encoder': False, 'base_score': 0.5, 'booster': 'gbtree', 'callbacks': None, 'colsample_bylevel': 1, 'colsample_bynode': 1, 'colsample_bytree': 0.7777777777777777, 'early_stopping_rounds': None, 'enable_categorical': False, 'eval_metric': None, 'gamma': 0, 'gpu_id': -1, 'grow_policy': 'depthwise', 'importance_type': None, 'interaction_constraints': '', 'learning_rate': 0.03333333333333333, 'max_bin': 256, 'max_cat_to_onehot': 4, 'max_delta_step': 0, 'max_depth': 8, 'max_leaves': 0, 'min_child_weight': 1, 'missing': nan, 'monotone_constraints': '()', 'n_estimators': 100, 'n_jobs': 0, 'num_parallel_tree': 1, 'predictor': 'auto', 'random_state': 42, 'reg_alpha': 0, 'reg_lambda': 1, 'sampling_method': 'uniform', 'scale_pos_weight': 1, 'subsample': 1, 'tree_method': 'approx', 'validate_parameters': 1, 'verbosity': None, 'min_split_loss': 0.2222222222222222}\n"
     ]
    }
   ],
   "source": [
    "show_best_hyperparameter(rs_xg)"
   ]
  },
  {
   "cell_type": "code",
   "execution_count": 71,
   "id": "1237d729",
   "metadata": {},
   "outputs": [
    {
     "name": "stdout",
     "output_type": "stream",
     "text": [
      "roc_auc(train): 0.8778940157324483\n",
      "roc_auc(test): 0.8645190138500644\n"
     ]
    }
   ],
   "source": [
    "from sklearn.model_selection import cross_validate\n",
    "\n",
    "model = XGBClassifier(max_depth = 4, min_child_weight = 9, min_split_loss = 0.42424242424242425, \n",
    "                      tree_method = 'approx', colsample_bytree = 0.5454545454545455, learning_rate = 0.03333333333333333\n",
    "                      )\n",
    "score = cross_validate(model, X, y, cv = 5, scoring = 'roc_auc', return_train_score = True)\n",
    "\n",
    "print('roc_auc(train): ' + str(score['train_score'].mean()))\n",
    "print('roc_auc(test): ' + str(score['test_score'].mean()))"
   ]
  },
  {
   "cell_type": "code",
   "execution_count": 72,
   "id": "23f5a1d2",
   "metadata": {},
   "outputs": [
    {
     "name": "stdout",
     "output_type": "stream",
     "text": [
      "Accuracy (Test Set): 0.86\n",
      "Precision (Test Set): 0.76\n",
      "Recall (Test Set): 0.45\n",
      "F1-Score (Test Set): 0.56\n",
      "AUC (test-proba): 0.86\n",
      "AUC (train-proba): 0.90\n"
     ]
    }
   ],
   "source": [
    "from xgboost import XGBClassifier, XGBRegressor\n",
    "xg_tuned = XGBClassifier(max_depth = 4, min_child_weight = 9, min_split_loss = 0.42424242424242425, \n",
    "                   tree_method = 'approx', colsample_bytree = 0.5454545454545455, learning_rate = 0.03333333333333333,\n",
    "                   random_state=42)\n",
    "xg_tuned.fit(X_train, y_train)\n",
    "\n",
    "eval_classification(xg_tuned)"
   ]
  },
  {
   "cell_type": "markdown",
   "id": "58b4cda6",
   "metadata": {},
   "source": [
    "**Feature Importance**"
   ]
  },
  {
   "cell_type": "code",
   "execution_count": 77,
   "id": "e900bd38",
   "metadata": {},
   "outputs": [
    {
     "data": {
      "image/png": "[encoded data removed]",
      "text/plain": [
       "<Figure size 720x576 with 1 Axes>"
      ]
     },
     "metadata": {
      "needs_background": "light"
     },
     "output_type": "display_data"
    }
   ],
   "source": [
    "show_feature_importance(dtc)"
   ]
  },
  {
   "cell_type": "code",
   "execution_count": 78,
   "id": "da0d031c",
   "metadata": {},
   "outputs": [
    {
     "data": {
      "image/png": "[encoded data removed]",
      "text/plain": [
       "<Figure size 720x576 with 1 Axes>"
      ]
     },
     "metadata": {
      "needs_background": "light"
     },
     "output_type": "display_data"
    }
   ],
   "source": [
    "show_feature_importance(dtc_tuned)"
   ]
  },
  {
   "cell_type": "code",
   "execution_count": 79,
   "id": "60248ec4",
   "metadata": {},
   "outputs": [
    {
     "data": {
      "image/png": "[encoded data removed]",
      "text/plain": [
       "<Figure size 720x576 with 1 Axes>"
      ]
     },
     "metadata": {
      "needs_background": "light"
     },
     "output_type": "display_data"
    }
   ],
   "source": [
    "show_feature_importance(rf)"
   ]
  },
  {
   "cell_type": "code",
   "execution_count": 80,
   "id": "cd4d9960",
   "metadata": {},
   "outputs": [
    {
     "data": {
      "image/png": "[encoded data removed]",
      "text/plain": [
       "<Figure size 720x576 with 1 Axes>"
      ]
     },
     "metadata": {
      "needs_background": "light"
     },
     "output_type": "display_data"
    }
   ],
   "source": [
    "show_feature_importance(rf_tuned)"
   ]
  },
  {
   "cell_type": "code",
   "execution_count": 81,
   "id": "eb8c8576",
   "metadata": {},
   "outputs": [
    {
     "data": {
      "image/png": "[encoded data removed]",
      "text/plain": [
       "<Figure size 720x576 with 1 Axes>"
      ]
     },
     "metadata": {
      "needs_background": "light"
     },
     "output_type": "display_data"
    }
   ],
   "source": [
    "show_feature_importance(ab)"
   ]
  },
  {
   "cell_type": "code",
   "execution_count": 82,
   "id": "151b388f",
   "metadata": {},
   "outputs": [
    {
     "data": {
      "image/png": "[encoded data removed]",
      "text/plain": [
       "<Figure size 720x576 with 1 Axes>"
      ]
     },
     "metadata": {
      "needs_background": "light"
     },
     "output_type": "display_data"
    }
   ],
   "source": [
    "show_feature_importance(ab_tuned)"
   ]
  },
  {
   "cell_type": "code",
   "execution_count": 83,
   "id": "1644986d",
   "metadata": {},
   "outputs": [
    {
     "data": {
      "image/png": "[encoded data removed]",
      "text/plain": [
       "<Figure size 720x576 with 1 Axes>"
      ]
     },
     "metadata": {
      "needs_background": "light"
     },
     "output_type": "display_data"
    }
   ],
   "source": [
    "show_feature_importance(xg)"
   ]
  },
  {
   "cell_type": "code",
   "execution_count": 84,
   "id": "38d10492",
   "metadata": {},
   "outputs": [
    {
     "data": {
      "image/png": "[encoded data removed]",
      "text/plain": [
       "<Figure size 720x576 with 1 Axes>"
      ]
     },
     "metadata": {
      "needs_background": "light"
     },
     "output_type": "display_data"
    }
   ],
   "source": [
    "show_feature_importance(xg_tuned)"
   ]
  },
  {
   "cell_type": "markdown",
   "id": "f66c2a66",
   "metadata": {},
   "source": [
    "Berdasarkan feature importance yang telah dimunculkan pada model XGBoost, Empat fitur teratas adalah NumOfProducts, Age, IsActiveMember, dan Geography."
   ]
  },
  {
   "cell_type": "code",
   "execution_count": null,
   "id": "f1f4eabc",
   "metadata": {},
   "outputs": [],
   "source": []
  }
 ],
 "metadata": {
  "kernelspec": {
   "display_name": "Python 3 (ipykernel)",
   "language": "python",
   "name": "python3"
  },
  "language_info": {
   "codemirror_mode": {
    "name": "ipython",
    "version": 3
   },
   "file_extension": ".py",
   "mimetype": "text/x-python",
   "name": "python",
   "nbconvert_exporter": "python",
   "pygments_lexer": "ipython3",
   "version": "3.9.7"
  }
 },
 "nbformat": 4,
 "nbformat_minor": 5
}
